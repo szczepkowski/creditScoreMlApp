{
 "cells": [
  {
   "cell_type": "code",
   "execution_count": 8,
   "id": "35037af55953a4a3",
   "metadata": {
    "ExecuteTime": {
     "end_time": "2025-07-21T11:06:20.254242Z",
     "start_time": "2025-07-21T11:06:20.190670Z"
    }
   },
   "outputs": [
    {
     "name": "stdout",
     "output_type": "stream",
     "text": [
      "   Unnamed: 0  SeriousDlqin2yrs  RevolvingUtilizationOfUnsecuredLines  age  \\\n",
      "0           1                 1                              0.766127   45   \n",
      "1           2                 0                              0.957151   40   \n",
      "2           3                 0                              0.658180   38   \n",
      "3           4                 0                              0.233810   30   \n",
      "4           5                 0                              0.907239   49   \n",
      "5           6                 0                              0.213179   74   \n",
      "6           7                 0                              0.305682   57   \n",
      "7           8                 0                              0.754464   39   \n",
      "8           9                 0                              0.116951   27   \n",
      "9          10                 0                              0.189169   57   \n",
      "\n",
      "   NumberOfTime30-59DaysPastDueNotWorse    DebtRatio  MonthlyIncome  \\\n",
      "0                                     2     0.802982         9120.0   \n",
      "1                                     0     0.121876         2600.0   \n",
      "2                                     1     0.085113         3042.0   \n",
      "3                                     0     0.036050         3300.0   \n",
      "4                                     1     0.024926        63588.0   \n",
      "5                                     0     0.375607         3500.0   \n",
      "6                                     0  5710.000000            NaN   \n",
      "7                                     0     0.209940         3500.0   \n",
      "8                                     0    46.000000            NaN   \n",
      "9                                     0     0.606291        23684.0   \n",
      "\n",
      "   NumberOfOpenCreditLinesAndLoans  NumberOfTimes90DaysLate  \\\n",
      "0                               13                        0   \n",
      "1                                4                        0   \n",
      "2                                2                        1   \n",
      "3                                5                        0   \n",
      "4                                7                        0   \n",
      "5                                3                        0   \n",
      "6                                8                        0   \n",
      "7                                8                        0   \n",
      "8                                2                        0   \n",
      "9                                9                        0   \n",
      "\n",
      "   NumberRealEstateLoansOrLines  NumberOfTime60-89DaysPastDueNotWorse  \\\n",
      "0                             6                                     0   \n",
      "1                             0                                     0   \n",
      "2                             0                                     0   \n",
      "3                             0                                     0   \n",
      "4                             1                                     0   \n",
      "5                             1                                     0   \n",
      "6                             3                                     0   \n",
      "7                             0                                     0   \n",
      "8                             0                                     0   \n",
      "9                             4                                     0   \n",
      "\n",
      "   NumberOfDependents  \n",
      "0                 2.0  \n",
      "1                 1.0  \n",
      "2                 0.0  \n",
      "3                 0.0  \n",
      "4                 0.0  \n",
      "5                 1.0  \n",
      "6                 0.0  \n",
      "7                 0.0  \n",
      "8                 NaN  \n",
      "9                 2.0  \n"
     ]
    }
   ],
   "source": [
    "import pandas as pd\n",
    "\n",
    "# Wczytanie pliku\n",
    "df = pd.read_csv('../data/cs-training.csv')\n",
    "\n",
    "# Podgląd danych\n",
    "print(df.head(10))"
   ]
  },
  {
   "cell_type": "code",
   "execution_count": 3,
   "id": "27b665aecac2f66f",
   "metadata": {},
   "outputs": [
    {
     "data": {
      "text/plain": [
       "101503"
      ]
     },
     "execution_count": 3,
     "metadata": {},
     "output_type": "execute_result"
    }
   ],
   "source": [
    "len(df)"
   ]
  },
  {
   "cell_type": "code",
   "execution_count": 5,
   "id": "f295de09-1639-46be-8f20-de6011df96c4",
   "metadata": {},
   "outputs": [
    {
     "ename": "TypeError",
     "evalue": "'tuple' object is not callable",
     "output_type": "error",
     "traceback": [
      "\u001B[31m---------------------------------------------------------------------------\u001B[39m",
      "\u001B[31mTypeError\u001B[39m                                 Traceback (most recent call last)",
      "\u001B[36mCell\u001B[39m\u001B[36m \u001B[39m\u001B[32mIn[5]\u001B[39m\u001B[32m, line 1\u001B[39m\n\u001B[32m----> \u001B[39m\u001B[32m1\u001B[39m \u001B[43mdf\u001B[49m\u001B[43m.\u001B[49m\u001B[43mshape\u001B[49m\u001B[43m(\u001B[49m\u001B[43m)\u001B[49m\n",
      "\u001B[31mTypeError\u001B[39m: 'tuple' object is not callable"
     ]
    }
   ],
   "source": [
    "df.shape()"
   ]
  },
  {
   "cell_type": "code",
   "execution_count": 6,
   "id": "7cda003f-06ea-47a5-a95b-56696b35adf0",
   "metadata": {},
   "outputs": [
    {
     "data": {
      "text/plain": [
       "(101503, 11)"
      ]
     },
     "execution_count": 6,
     "metadata": {},
     "output_type": "execute_result"
    }
   ],
   "source": [
    "df.shape"
   ]
  },
  {
   "cell_type": "code",
   "execution_count": 1,
   "id": "b839b87b-6966-4b52-9066-822cd01f4a3d",
   "metadata": {},
   "outputs": [
    {
     "ename": "NameError",
     "evalue": "name 'df' is not defined",
     "output_type": "error",
     "traceback": [
      "\u001B[31m---------------------------------------------------------------------------\u001B[39m",
      "\u001B[31mNameError\u001B[39m                                 Traceback (most recent call last)",
      "\u001B[36mCell\u001B[39m\u001B[36m \u001B[39m\u001B[32mIn[1]\u001B[39m\u001B[32m, line 1\u001B[39m\n\u001B[32m----> \u001B[39m\u001B[32m1\u001B[39m korelacje = \u001B[43mdf\u001B[49m.corr(numeric_only=\u001B[38;5;28;01mTrue\u001B[39;00m)\n\u001B[32m      2\u001B[39m \u001B[38;5;28mprint\u001B[39m(korelacje)\n",
      "\u001B[31mNameError\u001B[39m: name 'df' is not defined"
     ]
    }
   ],
   "source": [
    "korelacje = df.corr(numeric_only=True)\n",
    "print(korelacje)"
   ]
  },
  {
   "cell_type": "code",
   "execution_count": 2,
   "id": "83b53b38-b19d-460c-a261-f38260bf6756",
   "metadata": {},
   "outputs": [
    {
     "ename": "NameError",
     "evalue": "name 'df' is not defined",
     "output_type": "error",
     "traceback": [
      "\u001B[31m---------------------------------------------------------------------------\u001B[39m",
      "\u001B[31mNameError\u001B[39m                                 Traceback (most recent call last)",
      "\u001B[36mCell\u001B[39m\u001B[36m \u001B[39m\u001B[32mIn[2]\u001B[39m\u001B[32m, line 1\u001B[39m\n\u001B[32m----> \u001B[39m\u001B[32m1\u001B[39m \u001B[43mdf\u001B[49m\n",
      "\u001B[31mNameError\u001B[39m: name 'df' is not defined"
     ]
    }
   ],
   "source": [
    "df"
   ]
  },
  {
   "cell_type": "code",
   "execution_count": null,
   "id": "b6b20ef3-044c-4e0a-81c8-36e8f5a1ca1a",
   "metadata": {},
   "outputs": [],
   "source": []
  },
  {
   "cell_type": "code",
   "execution_count": 5,
   "id": "d704e4ba-0ae1-4b65-a7ea-ac7d4d59f6bc",
   "metadata": {},
   "outputs": [
    {
     "name": "stdout",
     "output_type": "stream",
     "text": [
      "                                      Unnamed: 0  \\\n",
      "Unnamed: 0                              1.000000   \n",
      "RevolvingUtilizationOfUnsecuredLines    0.000692   \n",
      "age                                     0.001877   \n",
      "NumberOfTime30-59DaysPastDueNotWorse   -0.003993   \n",
      "DebtRatio                              -0.000282   \n",
      "MonthlyIncome                          -0.003684   \n",
      "NumberOfOpenCreditLinesAndLoans         0.004621   \n",
      "NumberOfTimes90DaysLate                -0.003859   \n",
      "NumberRealEstateLoansOrLines            0.001547   \n",
      "NumberOfTime60-89DaysPastDueNotWorse   -0.003977   \n",
      "NumberOfDependents                      0.004499   \n",
      "SeriousDlqin2yrs                             NaN   \n",
      "\n",
      "                                      RevolvingUtilizationOfUnsecuredLines  \\\n",
      "Unnamed: 0                                                        0.000692   \n",
      "RevolvingUtilizationOfUnsecuredLines                              1.000000   \n",
      "age                                                              -0.007231   \n",
      "NumberOfTime30-59DaysPastDueNotWorse                             -0.000581   \n",
      "DebtRatio                                                         0.003841   \n",
      "MonthlyIncome                                                     0.000738   \n",
      "NumberOfOpenCreditLinesAndLoans                                  -0.011110   \n",
      "NumberOfTimes90DaysLate                                          -0.001317   \n",
      "NumberRealEstateLoansOrLines                                      0.003976   \n",
      "NumberOfTime60-89DaysPastDueNotWorse                             -0.000917   \n",
      "NumberOfDependents                                                0.001945   \n",
      "SeriousDlqin2yrs                                                       NaN   \n",
      "\n",
      "                                           age  \\\n",
      "Unnamed: 0                            0.001877   \n",
      "RevolvingUtilizationOfUnsecuredLines -0.007231   \n",
      "age                                   1.000000   \n",
      "NumberOfTime30-59DaysPastDueNotWorse -0.069227   \n",
      "DebtRatio                             0.034494   \n",
      "MonthlyIncome                         0.022483   \n",
      "NumberOfOpenCreditLinesAndLoans       0.143788   \n",
      "NumberOfTimes90DaysLate              -0.067606   \n",
      "NumberRealEstateLoansOrLines          0.026706   \n",
      "NumberOfTime60-89DaysPastDueNotWorse -0.063167   \n",
      "NumberOfDependents                   -0.217154   \n",
      "SeriousDlqin2yrs                           NaN   \n",
      "\n",
      "                                      NumberOfTime30-59DaysPastDueNotWorse  \\\n",
      "Unnamed: 0                                                       -0.003993   \n",
      "RevolvingUtilizationOfUnsecuredLines                             -0.000581   \n",
      "age                                                              -0.069227   \n",
      "NumberOfTime30-59DaysPastDueNotWorse                              1.000000   \n",
      "DebtRatio                                                        -0.008561   \n",
      "MonthlyIncome                                                    -0.005142   \n",
      "NumberOfOpenCreditLinesAndLoans                                  -0.060938   \n",
      "NumberOfTimes90DaysLate                                           0.985685   \n",
      "NumberRealEstateLoansOrLines                                     -0.035427   \n",
      "NumberOfTime60-89DaysPastDueNotWorse                              0.988800   \n",
      "NumberOfDependents                                               -0.001979   \n",
      "SeriousDlqin2yrs                                                       NaN   \n",
      "\n",
      "                                      DebtRatio  MonthlyIncome  \\\n",
      "Unnamed: 0                            -0.000282      -0.003684   \n",
      "RevolvingUtilizationOfUnsecuredLines   0.003841       0.000738   \n",
      "age                                    0.034494       0.022483   \n",
      "NumberOfTime30-59DaysPastDueNotWorse  -0.008561      -0.005142   \n",
      "DebtRatio                              1.000000      -0.005847   \n",
      "MonthlyIncome                         -0.005847       1.000000   \n",
      "NumberOfOpenCreditLinesAndLoans        0.065112       0.035109   \n",
      "NumberOfTimes90DaysLate               -0.011120      -0.005746   \n",
      "NumberRealEstateLoansOrLines           0.129234       0.049163   \n",
      "NumberOfTime60-89DaysPastDueNotWorse  -0.009972      -0.005145   \n",
      "NumberOfDependents                    -0.047220       0.020894   \n",
      "SeriousDlqin2yrs                            NaN            NaN   \n",
      "\n",
      "                                      NumberOfOpenCreditLinesAndLoans  \\\n",
      "Unnamed: 0                                                   0.004621   \n",
      "RevolvingUtilizationOfUnsecuredLines                        -0.011110   \n",
      "age                                                          0.143788   \n",
      "NumberOfTime30-59DaysPastDueNotWorse                        -0.060938   \n",
      "DebtRatio                                                    0.065112   \n",
      "MonthlyIncome                                                0.035109   \n",
      "NumberOfOpenCreditLinesAndLoans                              1.000000   \n",
      "NumberOfTimes90DaysLate                                     -0.084974   \n",
      "NumberRealEstateLoansOrLines                                 0.431141   \n",
      "NumberOfTime60-89DaysPastDueNotWorse                        -0.076188   \n",
      "NumberOfDependents                                           0.064707   \n",
      "SeriousDlqin2yrs                                                  NaN   \n",
      "\n",
      "                                      NumberOfTimes90DaysLate  \\\n",
      "Unnamed: 0                                          -0.003859   \n",
      "RevolvingUtilizationOfUnsecuredLines                -0.001317   \n",
      "age                                                 -0.067606   \n",
      "NumberOfTime30-59DaysPastDueNotWorse                 0.985685   \n",
      "DebtRatio                                           -0.011120   \n",
      "MonthlyIncome                                       -0.005746   \n",
      "NumberOfOpenCreditLinesAndLoans                     -0.084974   \n",
      "NumberOfTimes90DaysLate                              1.000000   \n",
      "NumberRealEstateLoansOrLines                        -0.049170   \n",
      "NumberOfTime60-89DaysPastDueNotWorse                 0.994111   \n",
      "NumberOfDependents                                  -0.009492   \n",
      "SeriousDlqin2yrs                                          NaN   \n",
      "\n",
      "                                      NumberRealEstateLoansOrLines  \\\n",
      "Unnamed: 0                                                0.001547   \n",
      "RevolvingUtilizationOfUnsecuredLines                      0.003976   \n",
      "age                                                       0.026706   \n",
      "NumberOfTime30-59DaysPastDueNotWorse                     -0.035427   \n",
      "DebtRatio                                                 0.129234   \n",
      "MonthlyIncome                                             0.049163   \n",
      "NumberOfOpenCreditLinesAndLoans                           0.431141   \n",
      "NumberOfTimes90DaysLate                                  -0.049170   \n",
      "NumberRealEstateLoansOrLines                              1.000000   \n",
      "NumberOfTime60-89DaysPastDueNotWorse                     -0.043292   \n",
      "NumberOfDependents                                        0.121126   \n",
      "SeriousDlqin2yrs                                               NaN   \n",
      "\n",
      "                                      NumberOfTime60-89DaysPastDueNotWorse  \\\n",
      "Unnamed: 0                                                       -0.003977   \n",
      "RevolvingUtilizationOfUnsecuredLines                             -0.000917   \n",
      "age                                                              -0.063167   \n",
      "NumberOfTime30-59DaysPastDueNotWorse                              0.988800   \n",
      "DebtRatio                                                        -0.009972   \n",
      "MonthlyIncome                                                    -0.005145   \n",
      "NumberOfOpenCreditLinesAndLoans                                  -0.076188   \n",
      "NumberOfTimes90DaysLate                                           0.994111   \n",
      "NumberRealEstateLoansOrLines                                     -0.043292   \n",
      "NumberOfTime60-89DaysPastDueNotWorse                              1.000000   \n",
      "NumberOfDependents                                               -0.010473   \n",
      "SeriousDlqin2yrs                                                       NaN   \n",
      "\n",
      "                                      NumberOfDependents  SeriousDlqin2yrs  \n",
      "Unnamed: 0                                      0.004499               NaN  \n",
      "RevolvingUtilizationOfUnsecuredLines            0.001945               NaN  \n",
      "age                                            -0.217154               NaN  \n",
      "NumberOfTime30-59DaysPastDueNotWorse           -0.001979               NaN  \n",
      "DebtRatio                                      -0.047220               NaN  \n",
      "MonthlyIncome                                   0.020894               NaN  \n",
      "NumberOfOpenCreditLinesAndLoans                 0.064707               NaN  \n",
      "NumberOfTimes90DaysLate                        -0.009492               NaN  \n",
      "NumberRealEstateLoansOrLines                    0.121126               NaN  \n",
      "NumberOfTime60-89DaysPastDueNotWorse           -0.010473               NaN  \n",
      "NumberOfDependents                              1.000000               NaN  \n",
      "SeriousDlqin2yrs                                     NaN               NaN  \n"
     ]
    }
   ],
   "source": [
    "korelacje = df.corr(numeric_only=True)\n",
    "print(korelacje)"
   ]
  },
  {
   "cell_type": "code",
   "execution_count": 6,
   "id": "ed152978-a827-4399-b07c-960f7eeb6e35",
   "metadata": {},
   "outputs": [
    {
     "name": "stdout",
     "output_type": "stream",
     "text": [
      "Unnamed: 0                             NaN\n",
      "RevolvingUtilizationOfUnsecuredLines   NaN\n",
      "age                                    NaN\n",
      "NumberOfTime30-59DaysPastDueNotWorse   NaN\n",
      "DebtRatio                              NaN\n",
      "MonthlyIncome                          NaN\n",
      "NumberOfOpenCreditLinesAndLoans        NaN\n",
      "NumberOfTimes90DaysLate                NaN\n",
      "NumberRealEstateLoansOrLines           NaN\n",
      "NumberOfTime60-89DaysPastDueNotWorse   NaN\n",
      "NumberOfDependents                     NaN\n",
      "SeriousDlqin2yrs                       NaN\n",
      "Name: SeriousDlqin2yrs, dtype: float64\n"
     ]
    }
   ],
   "source": [
    "correlations = df.corr(numeric_only=True)['SeriousDlqin2yrs'].sort_values(ascending=False)\n",
    "print(correlations)"
   ]
  },
  {
   "cell_type": "code",
   "execution_count": 7,
   "id": "aecc4eda-bcc7-4088-91ed-a2b7c6961a23",
   "metadata": {},
   "outputs": [
    {
     "data": {
      "text/plain": [
       "Unnamed: 0                                   0\n",
       "RevolvingUtilizationOfUnsecuredLines         0\n",
       "age                                          0\n",
       "NumberOfTime30-59DaysPastDueNotWorse         0\n",
       "DebtRatio                                    0\n",
       "MonthlyIncome                            20103\n",
       "NumberOfOpenCreditLinesAndLoans              0\n",
       "NumberOfTimes90DaysLate                      0\n",
       "NumberRealEstateLoansOrLines                 0\n",
       "NumberOfTime60-89DaysPastDueNotWorse         0\n",
       "NumberOfDependents                        2626\n",
       "SeriousDlqin2yrs                        101503\n",
       "dtype: int64"
      ]
     },
     "execution_count": 7,
     "metadata": {},
     "output_type": "execute_result"
    }
   ],
   "source": [
    "df.isnull().sum()"
   ]
  },
  {
   "cell_type": "code",
   "execution_count": 9,
   "id": "f7886b76-f2e2-4256-ae8b-f69cd895610d",
   "metadata": {},
   "outputs": [
    {
     "name": "stdout",
     "output_type": "stream",
     "text": [
      "   Unnamed: 0  SeriousDlqin2yrs  RevolvingUtilizationOfUnsecuredLines  age  \\\n",
      "0           1                 1                              0.766127   45   \n",
      "1           2                 0                              0.957151   40   \n",
      "2           3                 0                              0.658180   38   \n",
      "3           4                 0                              0.233810   30   \n",
      "4           5                 0                              0.907239   49   \n",
      "5           6                 0                              0.213179   74   \n",
      "6           7                 0                              0.305682   57   \n",
      "7           8                 0                              0.754464   39   \n",
      "8           9                 0                              0.116951   27   \n",
      "9          10                 0                              0.189169   57   \n",
      "\n",
      "   NumberOfTime30-59DaysPastDueNotWorse    DebtRatio  MonthlyIncome  \\\n",
      "0                                     2     0.802982         9120.0   \n",
      "1                                     0     0.121876         2600.0   \n",
      "2                                     1     0.085113         3042.0   \n",
      "3                                     0     0.036050         3300.0   \n",
      "4                                     1     0.024926        63588.0   \n",
      "5                                     0     0.375607         3500.0   \n",
      "6                                     0  5710.000000            NaN   \n",
      "7                                     0     0.209940         3500.0   \n",
      "8                                     0    46.000000            NaN   \n",
      "9                                     0     0.606291        23684.0   \n",
      "\n",
      "   NumberOfOpenCreditLinesAndLoans  NumberOfTimes90DaysLate  \\\n",
      "0                               13                        0   \n",
      "1                                4                        0   \n",
      "2                                2                        1   \n",
      "3                                5                        0   \n",
      "4                                7                        0   \n",
      "5                                3                        0   \n",
      "6                                8                        0   \n",
      "7                                8                        0   \n",
      "8                                2                        0   \n",
      "9                                9                        0   \n",
      "\n",
      "   NumberRealEstateLoansOrLines  NumberOfTime60-89DaysPastDueNotWorse  \\\n",
      "0                             6                                     0   \n",
      "1                             0                                     0   \n",
      "2                             0                                     0   \n",
      "3                             0                                     0   \n",
      "4                             1                                     0   \n",
      "5                             1                                     0   \n",
      "6                             3                                     0   \n",
      "7                             0                                     0   \n",
      "8                             0                                     0   \n",
      "9                             4                                     0   \n",
      "\n",
      "   NumberOfDependents  \n",
      "0                 2.0  \n",
      "1                 1.0  \n",
      "2                 0.0  \n",
      "3                 0.0  \n",
      "4                 0.0  \n",
      "5                 1.0  \n",
      "6                 0.0  \n",
      "7                 0.0  \n",
      "8                 NaN  \n",
      "9                 2.0  \n"
     ]
    }
   ],
   "source": [
    "import pandas as pd\n",
    "\n",
    "# Wczytanie pliku\n",
    "df = pd.read_csv('../data/cs-training.csv')\n",
    "\n",
    "# Podgląd danych\n",
    "print(df.head(10))"
   ]
  },
  {
   "cell_type": "code",
   "execution_count": 10,
   "id": "4fc19896-8f26-4924-8bb0-93f270a566f5",
   "metadata": {},
   "outputs": [
    {
     "data": {
      "text/plain": [
       "Unnamed: 0                                  0\n",
       "SeriousDlqin2yrs                            0\n",
       "RevolvingUtilizationOfUnsecuredLines        0\n",
       "age                                         0\n",
       "NumberOfTime30-59DaysPastDueNotWorse        0\n",
       "DebtRatio                                   0\n",
       "MonthlyIncome                           29731\n",
       "NumberOfOpenCreditLinesAndLoans             0\n",
       "NumberOfTimes90DaysLate                     0\n",
       "NumberRealEstateLoansOrLines                0\n",
       "NumberOfTime60-89DaysPastDueNotWorse        0\n",
       "NumberOfDependents                       3924\n",
       "dtype: int64"
      ]
     },
     "execution_count": 10,
     "metadata": {},
     "output_type": "execute_result"
    }
   ],
   "source": [
    "df.isnull().sum()"
   ]
  },
  {
   "cell_type": "code",
   "execution_count": 11,
   "id": "9e9a9a34-4199-457a-b58b-6dd3b53aed4a",
   "metadata": {},
   "outputs": [
    {
     "data": {
      "text/html": [
       "<div>\n",
       "<style scoped>\n",
       "    .dataframe tbody tr th:only-of-type {\n",
       "        vertical-align: middle;\n",
       "    }\n",
       "\n",
       "    .dataframe tbody tr th {\n",
       "        vertical-align: top;\n",
       "    }\n",
       "\n",
       "    .dataframe thead th {\n",
       "        text-align: right;\n",
       "    }\n",
       "</style>\n",
       "<table border=\"1\" class=\"dataframe\">\n",
       "  <thead>\n",
       "    <tr style=\"text-align: right;\">\n",
       "      <th></th>\n",
       "      <th>Unnamed: 0</th>\n",
       "      <th>SeriousDlqin2yrs</th>\n",
       "      <th>RevolvingUtilizationOfUnsecuredLines</th>\n",
       "      <th>age</th>\n",
       "      <th>NumberOfTime30-59DaysPastDueNotWorse</th>\n",
       "      <th>DebtRatio</th>\n",
       "      <th>MonthlyIncome</th>\n",
       "      <th>NumberOfOpenCreditLinesAndLoans</th>\n",
       "      <th>NumberOfTimes90DaysLate</th>\n",
       "      <th>NumberRealEstateLoansOrLines</th>\n",
       "      <th>NumberOfTime60-89DaysPastDueNotWorse</th>\n",
       "      <th>NumberOfDependents</th>\n",
       "    </tr>\n",
       "  </thead>\n",
       "  <tbody>\n",
       "    <tr>\n",
       "      <th>0</th>\n",
       "      <td>1</td>\n",
       "      <td>1</td>\n",
       "      <td>0.766127</td>\n",
       "      <td>45</td>\n",
       "      <td>2</td>\n",
       "      <td>0.802982</td>\n",
       "      <td>9120.0</td>\n",
       "      <td>13</td>\n",
       "      <td>0</td>\n",
       "      <td>6</td>\n",
       "      <td>0</td>\n",
       "      <td>2.0</td>\n",
       "    </tr>\n",
       "    <tr>\n",
       "      <th>1</th>\n",
       "      <td>2</td>\n",
       "      <td>0</td>\n",
       "      <td>0.957151</td>\n",
       "      <td>40</td>\n",
       "      <td>0</td>\n",
       "      <td>0.121876</td>\n",
       "      <td>2600.0</td>\n",
       "      <td>4</td>\n",
       "      <td>0</td>\n",
       "      <td>0</td>\n",
       "      <td>0</td>\n",
       "      <td>1.0</td>\n",
       "    </tr>\n",
       "    <tr>\n",
       "      <th>2</th>\n",
       "      <td>3</td>\n",
       "      <td>0</td>\n",
       "      <td>0.658180</td>\n",
       "      <td>38</td>\n",
       "      <td>1</td>\n",
       "      <td>0.085113</td>\n",
       "      <td>3042.0</td>\n",
       "      <td>2</td>\n",
       "      <td>1</td>\n",
       "      <td>0</td>\n",
       "      <td>0</td>\n",
       "      <td>0.0</td>\n",
       "    </tr>\n",
       "    <tr>\n",
       "      <th>3</th>\n",
       "      <td>4</td>\n",
       "      <td>0</td>\n",
       "      <td>0.233810</td>\n",
       "      <td>30</td>\n",
       "      <td>0</td>\n",
       "      <td>0.036050</td>\n",
       "      <td>3300.0</td>\n",
       "      <td>5</td>\n",
       "      <td>0</td>\n",
       "      <td>0</td>\n",
       "      <td>0</td>\n",
       "      <td>0.0</td>\n",
       "    </tr>\n",
       "    <tr>\n",
       "      <th>4</th>\n",
       "      <td>5</td>\n",
       "      <td>0</td>\n",
       "      <td>0.907239</td>\n",
       "      <td>49</td>\n",
       "      <td>1</td>\n",
       "      <td>0.024926</td>\n",
       "      <td>63588.0</td>\n",
       "      <td>7</td>\n",
       "      <td>0</td>\n",
       "      <td>1</td>\n",
       "      <td>0</td>\n",
       "      <td>0.0</td>\n",
       "    </tr>\n",
       "  </tbody>\n",
       "</table>\n",
       "</div>"
      ],
      "text/plain": [
       "   Unnamed: 0  SeriousDlqin2yrs  RevolvingUtilizationOfUnsecuredLines  age  \\\n",
       "0           1                 1                              0.766127   45   \n",
       "1           2                 0                              0.957151   40   \n",
       "2           3                 0                              0.658180   38   \n",
       "3           4                 0                              0.233810   30   \n",
       "4           5                 0                              0.907239   49   \n",
       "\n",
       "   NumberOfTime30-59DaysPastDueNotWorse  DebtRatio  MonthlyIncome  \\\n",
       "0                                     2   0.802982         9120.0   \n",
       "1                                     0   0.121876         2600.0   \n",
       "2                                     1   0.085113         3042.0   \n",
       "3                                     0   0.036050         3300.0   \n",
       "4                                     1   0.024926        63588.0   \n",
       "\n",
       "   NumberOfOpenCreditLinesAndLoans  NumberOfTimes90DaysLate  \\\n",
       "0                               13                        0   \n",
       "1                                4                        0   \n",
       "2                                2                        1   \n",
       "3                                5                        0   \n",
       "4                                7                        0   \n",
       "\n",
       "   NumberRealEstateLoansOrLines  NumberOfTime60-89DaysPastDueNotWorse  \\\n",
       "0                             6                                     0   \n",
       "1                             0                                     0   \n",
       "2                             0                                     0   \n",
       "3                             0                                     0   \n",
       "4                             1                                     0   \n",
       "\n",
       "   NumberOfDependents  \n",
       "0                 2.0  \n",
       "1                 1.0  \n",
       "2                 0.0  \n",
       "3                 0.0  \n",
       "4                 0.0  "
      ]
     },
     "execution_count": 11,
     "metadata": {},
     "output_type": "execute_result"
    }
   ],
   "source": [
    "df.head()"
   ]
  },
  {
   "cell_type": "code",
   "execution_count": 12,
   "id": "1b00b1cb-b6ad-46df-82de-5fef4866baf3",
   "metadata": {},
   "outputs": [
    {
     "name": "stdout",
     "output_type": "stream",
     "text": [
      "NumberOfTime30-59DaysPastDueNotWorse    0.125587\n",
      "NumberOfTimes90DaysLate                 0.117175\n",
      "NumberOfTime60-89DaysPastDueNotWorse    0.102261\n",
      "NumberOfDependents                      0.046048\n",
      "Unnamed: 0                              0.002801\n",
      "RevolvingUtilizationOfUnsecuredLines   -0.001802\n",
      "NumberRealEstateLoansOrLines           -0.007038\n",
      "DebtRatio                              -0.007602\n",
      "MonthlyIncome                          -0.019746\n",
      "NumberOfOpenCreditLinesAndLoans        -0.029669\n",
      "age                                    -0.115386\n",
      "Name: SeriousDlqin2yrs, dtype: float64\n"
     ]
    }
   ],
   "source": [
    "correlations = df.corr(numeric_only=True)['SeriousDlqin2yrs'].drop('SeriousDlqin2yrs').sort_values(ascending=False)\n",
    "print(correlations)"
   ]
  },
  {
   "cell_type": "code",
   "execution_count": 13,
   "id": "f160a052-8e08-4db3-90e8-123b1b8e5686",
   "metadata": {},
   "outputs": [
    {
     "ename": "ValueError",
     "evalue": "Could not interpret value `target` for `x`. An entry with this name does not appear in `data`.",
     "output_type": "error",
     "traceback": [
      "\u001B[31m---------------------------------------------------------------------------\u001B[39m",
      "\u001B[31mValueError\u001B[39m                                Traceback (most recent call last)",
      "\u001B[36mCell\u001B[39m\u001B[36m \u001B[39m\u001B[32mIn[13]\u001B[39m\u001B[32m, line 4\u001B[39m\n\u001B[32m      1\u001B[39m \u001B[38;5;28;01mimport\u001B[39;00m\u001B[38;5;250m \u001B[39m\u001B[34;01mseaborn\u001B[39;00m\u001B[38;5;250m \u001B[39m\u001B[38;5;28;01mas\u001B[39;00m\u001B[38;5;250m \u001B[39m\u001B[34;01msns\u001B[39;00m\n\u001B[32m      2\u001B[39m \u001B[38;5;28;01mimport\u001B[39;00m\u001B[38;5;250m \u001B[39m\u001B[34;01mmatplotlib\u001B[39;00m\u001B[34;01m.\u001B[39;00m\u001B[34;01mpyplot\u001B[39;00m\u001B[38;5;250m \u001B[39m\u001B[38;5;28;01mas\u001B[39;00m\u001B[38;5;250m \u001B[39m\u001B[34;01mplt\u001B[39;00m\n\u001B[32m----> \u001B[39m\u001B[32m4\u001B[39m \u001B[43msns\u001B[49m\u001B[43m.\u001B[49m\u001B[43mboxplot\u001B[49m\u001B[43m(\u001B[49m\u001B[43mx\u001B[49m\u001B[43m=\u001B[49m\u001B[33;43m'\u001B[39;49m\u001B[33;43mtarget\u001B[39;49m\u001B[33;43m'\u001B[39;49m\u001B[43m,\u001B[49m\u001B[43m \u001B[49m\u001B[43my\u001B[49m\u001B[43m=\u001B[49m\u001B[33;43m'\u001B[39;49m\u001B[33;43mDebtRatio\u001B[39;49m\u001B[33;43m'\u001B[39;49m\u001B[43m,\u001B[49m\u001B[43m \u001B[49m\u001B[43mdata\u001B[49m\u001B[43m=\u001B[49m\u001B[43mdf\u001B[49m\u001B[43m)\u001B[49m\n\u001B[32m      5\u001B[39m plt.title(\u001B[33m'\u001B[39m\u001B[33mDebtRatio vs Target (Boxplot)\u001B[39m\u001B[33m'\u001B[39m)\n\u001B[32m      6\u001B[39m plt.show()\n",
      "\u001B[36mFile \u001B[39m\u001B[32m/Library/Frameworks/Python.framework/Versions/3.13/lib/python3.13/site-packages/seaborn/categorical.py:1597\u001B[39m, in \u001B[36mboxplot\u001B[39m\u001B[34m(data, x, y, hue, order, hue_order, orient, color, palette, saturation, fill, dodge, width, gap, whis, linecolor, linewidth, fliersize, hue_norm, native_scale, log_scale, formatter, legend, ax, **kwargs)\u001B[39m\n\u001B[32m   1589\u001B[39m \u001B[38;5;28;01mdef\u001B[39;00m\u001B[38;5;250m \u001B[39m\u001B[34mboxplot\u001B[39m(\n\u001B[32m   1590\u001B[39m     data=\u001B[38;5;28;01mNone\u001B[39;00m, *, x=\u001B[38;5;28;01mNone\u001B[39;00m, y=\u001B[38;5;28;01mNone\u001B[39;00m, hue=\u001B[38;5;28;01mNone\u001B[39;00m, order=\u001B[38;5;28;01mNone\u001B[39;00m, hue_order=\u001B[38;5;28;01mNone\u001B[39;00m,\n\u001B[32m   1591\u001B[39m     orient=\u001B[38;5;28;01mNone\u001B[39;00m, color=\u001B[38;5;28;01mNone\u001B[39;00m, palette=\u001B[38;5;28;01mNone\u001B[39;00m, saturation=\u001B[32m.75\u001B[39m, fill=\u001B[38;5;28;01mTrue\u001B[39;00m,\n\u001B[32m   (...)\u001B[39m\u001B[32m   1594\u001B[39m     legend=\u001B[33m\"\u001B[39m\u001B[33mauto\u001B[39m\u001B[33m\"\u001B[39m, ax=\u001B[38;5;28;01mNone\u001B[39;00m, **kwargs\n\u001B[32m   1595\u001B[39m ):\n\u001B[32m-> \u001B[39m\u001B[32m1597\u001B[39m     p = \u001B[43m_CategoricalPlotter\u001B[49m\u001B[43m(\u001B[49m\n\u001B[32m   1598\u001B[39m \u001B[43m        \u001B[49m\u001B[43mdata\u001B[49m\u001B[43m=\u001B[49m\u001B[43mdata\u001B[49m\u001B[43m,\u001B[49m\n\u001B[32m   1599\u001B[39m \u001B[43m        \u001B[49m\u001B[43mvariables\u001B[49m\u001B[43m=\u001B[49m\u001B[38;5;28;43mdict\u001B[39;49m\u001B[43m(\u001B[49m\u001B[43mx\u001B[49m\u001B[43m=\u001B[49m\u001B[43mx\u001B[49m\u001B[43m,\u001B[49m\u001B[43m \u001B[49m\u001B[43my\u001B[49m\u001B[43m=\u001B[49m\u001B[43my\u001B[49m\u001B[43m,\u001B[49m\u001B[43m \u001B[49m\u001B[43mhue\u001B[49m\u001B[43m=\u001B[49m\u001B[43mhue\u001B[49m\u001B[43m)\u001B[49m\u001B[43m,\u001B[49m\n\u001B[32m   1600\u001B[39m \u001B[43m        \u001B[49m\u001B[43morder\u001B[49m\u001B[43m=\u001B[49m\u001B[43morder\u001B[49m\u001B[43m,\u001B[49m\n\u001B[32m   1601\u001B[39m \u001B[43m        \u001B[49m\u001B[43morient\u001B[49m\u001B[43m=\u001B[49m\u001B[43morient\u001B[49m\u001B[43m,\u001B[49m\n\u001B[32m   1602\u001B[39m \u001B[43m        \u001B[49m\u001B[43mcolor\u001B[49m\u001B[43m=\u001B[49m\u001B[43mcolor\u001B[49m\u001B[43m,\u001B[49m\n\u001B[32m   1603\u001B[39m \u001B[43m        \u001B[49m\u001B[43mlegend\u001B[49m\u001B[43m=\u001B[49m\u001B[43mlegend\u001B[49m\u001B[43m,\u001B[49m\n\u001B[32m   1604\u001B[39m \u001B[43m    \u001B[49m\u001B[43m)\u001B[49m\n\u001B[32m   1606\u001B[39m     \u001B[38;5;28;01mif\u001B[39;00m ax \u001B[38;5;129;01mis\u001B[39;00m \u001B[38;5;28;01mNone\u001B[39;00m:\n\u001B[32m   1607\u001B[39m         ax = plt.gca()\n",
      "\u001B[36mFile \u001B[39m\u001B[32m/Library/Frameworks/Python.framework/Versions/3.13/lib/python3.13/site-packages/seaborn/categorical.py:67\u001B[39m, in \u001B[36m_CategoricalPlotter.__init__\u001B[39m\u001B[34m(self, data, variables, order, orient, require_numeric, color, legend)\u001B[39m\n\u001B[32m     56\u001B[39m \u001B[38;5;28;01mdef\u001B[39;00m\u001B[38;5;250m \u001B[39m\u001B[34m__init__\u001B[39m(\n\u001B[32m     57\u001B[39m     \u001B[38;5;28mself\u001B[39m,\n\u001B[32m     58\u001B[39m     data=\u001B[38;5;28;01mNone\u001B[39;00m,\n\u001B[32m   (...)\u001B[39m\u001B[32m     64\u001B[39m     legend=\u001B[33m\"\u001B[39m\u001B[33mauto\u001B[39m\u001B[33m\"\u001B[39m,\n\u001B[32m     65\u001B[39m ):\n\u001B[32m---> \u001B[39m\u001B[32m67\u001B[39m     \u001B[38;5;28;43msuper\u001B[39;49m\u001B[43m(\u001B[49m\u001B[43m)\u001B[49m\u001B[43m.\u001B[49m\u001B[34;43m__init__\u001B[39;49m\u001B[43m(\u001B[49m\u001B[43mdata\u001B[49m\u001B[43m=\u001B[49m\u001B[43mdata\u001B[49m\u001B[43m,\u001B[49m\u001B[43m \u001B[49m\u001B[43mvariables\u001B[49m\u001B[43m=\u001B[49m\u001B[43mvariables\u001B[49m\u001B[43m)\u001B[49m\n\u001B[32m     69\u001B[39m     \u001B[38;5;66;03m# This method takes care of some bookkeeping that is necessary because the\u001B[39;00m\n\u001B[32m     70\u001B[39m     \u001B[38;5;66;03m# original categorical plots (prior to the 2021 refactor) had some rules that\u001B[39;00m\n\u001B[32m     71\u001B[39m     \u001B[38;5;66;03m# don't fit exactly into VectorPlotter logic. It may be wise to have a second\u001B[39;00m\n\u001B[32m   (...)\u001B[39m\u001B[32m     76\u001B[39m     \u001B[38;5;66;03m# default VectorPlotter rules. If we do decide to make orient part of the\u001B[39;00m\n\u001B[32m     77\u001B[39m     \u001B[38;5;66;03m# _base variable assignment, we'll want to figure out how to express that.\u001B[39;00m\n\u001B[32m     78\u001B[39m     \u001B[38;5;28;01mif\u001B[39;00m \u001B[38;5;28mself\u001B[39m.input_format == \u001B[33m\"\u001B[39m\u001B[33mwide\u001B[39m\u001B[33m\"\u001B[39m \u001B[38;5;129;01mand\u001B[39;00m orient \u001B[38;5;129;01min\u001B[39;00m [\u001B[33m\"\u001B[39m\u001B[33mh\u001B[39m\u001B[33m\"\u001B[39m, \u001B[33m\"\u001B[39m\u001B[33my\u001B[39m\u001B[33m\"\u001B[39m]:\n",
      "\u001B[36mFile \u001B[39m\u001B[32m/Library/Frameworks/Python.framework/Versions/3.13/lib/python3.13/site-packages/seaborn/_base.py:634\u001B[39m, in \u001B[36mVectorPlotter.__init__\u001B[39m\u001B[34m(self, data, variables)\u001B[39m\n\u001B[32m    629\u001B[39m \u001B[38;5;66;03m# var_ordered is relevant only for categorical axis variables, and may\u001B[39;00m\n\u001B[32m    630\u001B[39m \u001B[38;5;66;03m# be better handled by an internal axis information object that tracks\u001B[39;00m\n\u001B[32m    631\u001B[39m \u001B[38;5;66;03m# such information and is set up by the scale_* methods. The analogous\u001B[39;00m\n\u001B[32m    632\u001B[39m \u001B[38;5;66;03m# information for numeric axes would be information about log scales.\u001B[39;00m\n\u001B[32m    633\u001B[39m \u001B[38;5;28mself\u001B[39m._var_ordered = {\u001B[33m\"\u001B[39m\u001B[33mx\u001B[39m\u001B[33m\"\u001B[39m: \u001B[38;5;28;01mFalse\u001B[39;00m, \u001B[33m\"\u001B[39m\u001B[33my\u001B[39m\u001B[33m\"\u001B[39m: \u001B[38;5;28;01mFalse\u001B[39;00m}  \u001B[38;5;66;03m# alt., used DefaultDict\u001B[39;00m\n\u001B[32m--> \u001B[39m\u001B[32m634\u001B[39m \u001B[38;5;28;43mself\u001B[39;49m\u001B[43m.\u001B[49m\u001B[43massign_variables\u001B[49m\u001B[43m(\u001B[49m\u001B[43mdata\u001B[49m\u001B[43m,\u001B[49m\u001B[43m \u001B[49m\u001B[43mvariables\u001B[49m\u001B[43m)\u001B[49m\n\u001B[32m    636\u001B[39m \u001B[38;5;66;03m# TODO Lots of tests assume that these are called to initialize the\u001B[39;00m\n\u001B[32m    637\u001B[39m \u001B[38;5;66;03m# mappings to default values on class initialization. I'd prefer to\u001B[39;00m\n\u001B[32m    638\u001B[39m \u001B[38;5;66;03m# move away from that and only have a mapping when explicitly called.\u001B[39;00m\n\u001B[32m    639\u001B[39m \u001B[38;5;28;01mfor\u001B[39;00m var \u001B[38;5;129;01min\u001B[39;00m [\u001B[33m\"\u001B[39m\u001B[33mhue\u001B[39m\u001B[33m\"\u001B[39m, \u001B[33m\"\u001B[39m\u001B[33msize\u001B[39m\u001B[33m\"\u001B[39m, \u001B[33m\"\u001B[39m\u001B[33mstyle\u001B[39m\u001B[33m\"\u001B[39m]:\n",
      "\u001B[36mFile \u001B[39m\u001B[32m/Library/Frameworks/Python.framework/Versions/3.13/lib/python3.13/site-packages/seaborn/_base.py:679\u001B[39m, in \u001B[36mVectorPlotter.assign_variables\u001B[39m\u001B[34m(self, data, variables)\u001B[39m\n\u001B[32m    674\u001B[39m \u001B[38;5;28;01melse\u001B[39;00m:\n\u001B[32m    675\u001B[39m     \u001B[38;5;66;03m# When dealing with long-form input, use the newer PlotData\u001B[39;00m\n\u001B[32m    676\u001B[39m     \u001B[38;5;66;03m# object (internal but introduced for the objects interface)\u001B[39;00m\n\u001B[32m    677\u001B[39m     \u001B[38;5;66;03m# to centralize / standardize data consumption logic.\u001B[39;00m\n\u001B[32m    678\u001B[39m     \u001B[38;5;28mself\u001B[39m.input_format = \u001B[33m\"\u001B[39m\u001B[33mlong\u001B[39m\u001B[33m\"\u001B[39m\n\u001B[32m--> \u001B[39m\u001B[32m679\u001B[39m     plot_data = \u001B[43mPlotData\u001B[49m\u001B[43m(\u001B[49m\u001B[43mdata\u001B[49m\u001B[43m,\u001B[49m\u001B[43m \u001B[49m\u001B[43mvariables\u001B[49m\u001B[43m)\u001B[49m\n\u001B[32m    680\u001B[39m     frame = plot_data.frame\n\u001B[32m    681\u001B[39m     names = plot_data.names\n",
      "\u001B[36mFile \u001B[39m\u001B[32m/Library/Frameworks/Python.framework/Versions/3.13/lib/python3.13/site-packages/seaborn/_core/data.py:58\u001B[39m, in \u001B[36mPlotData.__init__\u001B[39m\u001B[34m(self, data, variables)\u001B[39m\n\u001B[32m     51\u001B[39m \u001B[38;5;28;01mdef\u001B[39;00m\u001B[38;5;250m \u001B[39m\u001B[34m__init__\u001B[39m(\n\u001B[32m     52\u001B[39m     \u001B[38;5;28mself\u001B[39m,\n\u001B[32m     53\u001B[39m     data: DataSource,\n\u001B[32m     54\u001B[39m     variables: \u001B[38;5;28mdict\u001B[39m[\u001B[38;5;28mstr\u001B[39m, VariableSpec],\n\u001B[32m     55\u001B[39m ):\n\u001B[32m     57\u001B[39m     data = handle_data_source(data)\n\u001B[32m---> \u001B[39m\u001B[32m58\u001B[39m     frame, names, ids = \u001B[38;5;28;43mself\u001B[39;49m\u001B[43m.\u001B[49m\u001B[43m_assign_variables\u001B[49m\u001B[43m(\u001B[49m\u001B[43mdata\u001B[49m\u001B[43m,\u001B[49m\u001B[43m \u001B[49m\u001B[43mvariables\u001B[49m\u001B[43m)\u001B[49m\n\u001B[32m     60\u001B[39m     \u001B[38;5;28mself\u001B[39m.frame = frame\n\u001B[32m     61\u001B[39m     \u001B[38;5;28mself\u001B[39m.names = names\n",
      "\u001B[36mFile \u001B[39m\u001B[32m/Library/Frameworks/Python.framework/Versions/3.13/lib/python3.13/site-packages/seaborn/_core/data.py:232\u001B[39m, in \u001B[36mPlotData._assign_variables\u001B[39m\u001B[34m(self, data, variables)\u001B[39m\n\u001B[32m    230\u001B[39m     \u001B[38;5;28;01melse\u001B[39;00m:\n\u001B[32m    231\u001B[39m         err += \u001B[33m\"\u001B[39m\u001B[33mAn entry with this name does not appear in `data`.\u001B[39m\u001B[33m\"\u001B[39m\n\u001B[32m--> \u001B[39m\u001B[32m232\u001B[39m     \u001B[38;5;28;01mraise\u001B[39;00m \u001B[38;5;167;01mValueError\u001B[39;00m(err)\n\u001B[32m    234\u001B[39m \u001B[38;5;28;01melse\u001B[39;00m:\n\u001B[32m    235\u001B[39m \n\u001B[32m    236\u001B[39m     \u001B[38;5;66;03m# Otherwise, assume the value somehow represents data\u001B[39;00m\n\u001B[32m    237\u001B[39m \n\u001B[32m    238\u001B[39m     \u001B[38;5;66;03m# Ignore empty data structures\u001B[39;00m\n\u001B[32m    239\u001B[39m     \u001B[38;5;28;01mif\u001B[39;00m \u001B[38;5;28misinstance\u001B[39m(val, Sized) \u001B[38;5;129;01mand\u001B[39;00m \u001B[38;5;28mlen\u001B[39m(val) == \u001B[32m0\u001B[39m:\n",
      "\u001B[31mValueError\u001B[39m: Could not interpret value `target` for `x`. An entry with this name does not appear in `data`."
     ]
    }
   ],
   "source": [
    "import seaborn as sns\n",
    "import matplotlib.pyplot as plt\n",
    "\n",
    "sns.boxplot(x='target', y='DebtRatio', data=df)\n",
    "plt.title('DebtRatio vs Target (Boxplot)')\n",
    "plt.show()"
   ]
  },
  {
   "cell_type": "code",
   "execution_count": 14,
   "id": "9dd84b6d-f344-4ee2-8d3e-f0632fabb5f2",
   "metadata": {},
   "outputs": [
    {
     "data": {
      "image/png": "[encoded data removed]",
      "text/plain": [
       "<Figure size 640x480 with 1 Axes>"
      ]
     },
     "metadata": {},
     "output_type": "display_data"
    }
   ],
   "source": [
    "import seaborn as sns\n",
    "import matplotlib.pyplot as plt\n",
    "\n",
    "sns.boxplot(x='SeriousDlqin2yrs', y='DebtRatio', data=df)\n",
    "plt.title('DebtRatio vs Target (Boxplot)')\n",
    "plt.show()"
   ]
  },
  {
   "cell_type": "code",
   "execution_count": 15,
   "id": "da035630-ee64-4639-86cc-cfafe5e4ad0f",
   "metadata": {},
   "outputs": [
    {
     "name": "stderr",
     "output_type": "stream",
     "text": [
      "/var/folders/5x/xp_2x3wd43x6lvvb5q3xks6h0000gn/T/ipykernel_59131/3621897252.py:8: FutureWarning: The default of observed=False is deprecated and will be changed to True in a future version of pandas. Pass observed=False to retain current behavior or observed=True to adopt the future default and silence this warning.\n",
      "  bin_means = df.groupby('DebtBin')['target'].mean().reset_index()\n"
     ]
    },
    {
     "ename": "KeyError",
     "evalue": "'Column not found: target'",
     "output_type": "error",
     "traceback": [
      "\u001B[31m---------------------------------------------------------------------------\u001B[39m",
      "\u001B[31mKeyError\u001B[39m                                  Traceback (most recent call last)",
      "\u001B[36mCell\u001B[39m\u001B[36m \u001B[39m\u001B[32mIn[15]\u001B[39m\u001B[32m, line 8\u001B[39m\n\u001B[32m      5\u001B[39m df[\u001B[33m'\u001B[39m\u001B[33mDebtBin\u001B[39m\u001B[33m'\u001B[39m] = pd.qcut(df[\u001B[33m'\u001B[39m\u001B[33mDebtRatio\u001B[39m\u001B[33m'\u001B[39m], q=\u001B[32m50\u001B[39m, duplicates=\u001B[33m'\u001B[39m\u001B[33mdrop\u001B[39m\u001B[33m'\u001B[39m)\n\u001B[32m      7\u001B[39m \u001B[38;5;66;03m# Oblicz średnią targetu w każdym przedziale\u001B[39;00m\n\u001B[32m----> \u001B[39m\u001B[32m8\u001B[39m bin_means = \u001B[43mdf\u001B[49m\u001B[43m.\u001B[49m\u001B[43mgroupby\u001B[49m\u001B[43m(\u001B[49m\u001B[33;43m'\u001B[39;49m\u001B[33;43mDebtBin\u001B[39;49m\u001B[33;43m'\u001B[39;49m\u001B[43m)\u001B[49m\u001B[43m[\u001B[49m\u001B[33;43m'\u001B[39;49m\u001B[33;43mtarget\u001B[39;49m\u001B[33;43m'\u001B[39;49m\u001B[43m]\u001B[49m.mean().reset_index()\n\u001B[32m     10\u001B[39m \u001B[38;5;66;03m# Zamień biny na liczby – np. środek przedziału\u001B[39;00m\n\u001B[32m     11\u001B[39m bin_means[\u001B[33m'\u001B[39m\u001B[33mDebtMid\u001B[39m\u001B[33m'\u001B[39m] = bin_means[\u001B[33m'\u001B[39m\u001B[33mDebtBin\u001B[39m\u001B[33m'\u001B[39m].apply(\u001B[38;5;28;01mlambda\u001B[39;00m x: x.mid)\n",
      "\u001B[36mFile \u001B[39m\u001B[32m/Library/Frameworks/Python.framework/Versions/3.13/lib/python3.13/site-packages/pandas/core/groupby/generic.py:1951\u001B[39m, in \u001B[36mDataFrameGroupBy.__getitem__\u001B[39m\u001B[34m(self, key)\u001B[39m\n\u001B[32m   1944\u001B[39m \u001B[38;5;28;01mif\u001B[39;00m \u001B[38;5;28misinstance\u001B[39m(key, \u001B[38;5;28mtuple\u001B[39m) \u001B[38;5;129;01mand\u001B[39;00m \u001B[38;5;28mlen\u001B[39m(key) > \u001B[32m1\u001B[39m:\n\u001B[32m   1945\u001B[39m     \u001B[38;5;66;03m# if len == 1, then it becomes a SeriesGroupBy and this is actually\u001B[39;00m\n\u001B[32m   1946\u001B[39m     \u001B[38;5;66;03m# valid syntax, so don't raise\u001B[39;00m\n\u001B[32m   1947\u001B[39m     \u001B[38;5;28;01mraise\u001B[39;00m \u001B[38;5;167;01mValueError\u001B[39;00m(\n\u001B[32m   1948\u001B[39m         \u001B[33m\"\u001B[39m\u001B[33mCannot subset columns with a tuple with more than one element. \u001B[39m\u001B[33m\"\u001B[39m\n\u001B[32m   1949\u001B[39m         \u001B[33m\"\u001B[39m\u001B[33mUse a list instead.\u001B[39m\u001B[33m\"\u001B[39m\n\u001B[32m   1950\u001B[39m     )\n\u001B[32m-> \u001B[39m\u001B[32m1951\u001B[39m \u001B[38;5;28;01mreturn\u001B[39;00m \u001B[38;5;28;43msuper\u001B[39;49m\u001B[43m(\u001B[49m\u001B[43m)\u001B[49m\u001B[43m.\u001B[49m\u001B[34;43m__getitem__\u001B[39;49m\u001B[43m(\u001B[49m\u001B[43mkey\u001B[49m\u001B[43m)\u001B[49m\n",
      "\u001B[36mFile \u001B[39m\u001B[32m/Library/Frameworks/Python.framework/Versions/3.13/lib/python3.13/site-packages/pandas/core/base.py:244\u001B[39m, in \u001B[36mSelectionMixin.__getitem__\u001B[39m\u001B[34m(self, key)\u001B[39m\n\u001B[32m    242\u001B[39m \u001B[38;5;28;01melse\u001B[39;00m:\n\u001B[32m    243\u001B[39m     \u001B[38;5;28;01mif\u001B[39;00m key \u001B[38;5;129;01mnot\u001B[39;00m \u001B[38;5;129;01min\u001B[39;00m \u001B[38;5;28mself\u001B[39m.obj:\n\u001B[32m--> \u001B[39m\u001B[32m244\u001B[39m         \u001B[38;5;28;01mraise\u001B[39;00m \u001B[38;5;167;01mKeyError\u001B[39;00m(\u001B[33mf\u001B[39m\u001B[33m\"\u001B[39m\u001B[33mColumn not found: \u001B[39m\u001B[38;5;132;01m{\u001B[39;00mkey\u001B[38;5;132;01m}\u001B[39;00m\u001B[33m\"\u001B[39m)\n\u001B[32m    245\u001B[39m     ndim = \u001B[38;5;28mself\u001B[39m.obj[key].ndim\n\u001B[32m    246\u001B[39m     \u001B[38;5;28;01mreturn\u001B[39;00m \u001B[38;5;28mself\u001B[39m._gotitem(key, ndim=ndim)\n",
      "\u001B[31mKeyError\u001B[39m: 'Column not found: target'"
     ]
    }
   ],
   "source": [
    "import pandas as pd\n",
    "import matplotlib.pyplot as plt\n",
    "\n",
    "# Podziel DebtRatio na biny (np. 50 przedziałów równej szerokości)\n",
    "df['DebtBin'] = pd.qcut(df['DebtRatio'], q=50, duplicates='drop')\n",
    "\n",
    "# Oblicz średnią targetu w każdym przedziale\n",
    "bin_means = df.groupby('DebtBin')['target'].mean().reset_index()\n",
    "\n",
    "# Zamień biny na liczby – np. środek przedziału\n",
    "bin_means['DebtMid'] = bin_means['DebtBin'].apply(lambda x: x.mid)\n",
    "\n",
    "# Wykres liniowy\n",
    "plt.plot(bin_means['DebtMid'], bin_means['target'], marker='o')\n",
    "plt.xlabel('DebtRatio')\n",
    "plt.ylabel('Średni target (prawdopodobieństwo defaultu)')\n",
    "plt.title('Zależność targetu od DebtRatio')\n",
    "plt.grid(True)\n",
    "plt.show()"
   ]
  },
  {
   "cell_type": "code",
   "execution_count": 16,
   "id": "6a70b819-11f0-4c4d-bb0b-30304dadd053",
   "metadata": {},
   "outputs": [
    {
     "name": "stderr",
     "output_type": "stream",
     "text": [
      "/var/folders/5x/xp_2x3wd43x6lvvb5q3xks6h0000gn/T/ipykernel_59131/1871179966.py:8: FutureWarning: The default of observed=False is deprecated and will be changed to True in a future version of pandas. Pass observed=False to retain current behavior or observed=True to adopt the future default and silence this warning.\n",
      "  bin_means = df.groupby('DebtBin')['SeriousDlqin2yrs'].mean().reset_index()\n"
     ]
    },
    {
     "data": {
      "image/png": "[encoded data removed]",
      "text/plain": [
       "<Figure size 640x480 with 1 Axes>"
      ]
     },
     "metadata": {},
     "output_type": "display_data"
    }
   ],
   "source": [
    "import pandas as pd\n",
    "import matplotlib.pyplot as plt\n",
    "\n",
    "# Podziel DebtRatio na biny (np. 50 przedziałów równej szerokości)\n",
    "df['DebtBin'] = pd.qcut(df['DebtRatio'], q=50, duplicates='drop')\n",
    "\n",
    "# Oblicz średnią targetu w każdym przedziale\n",
    "bin_means = df.groupby('DebtBin')['SeriousDlqin2yrs'].mean().reset_index()\n",
    "\n",
    "# Zamień biny na liczby – np. środek przedziału\n",
    "bin_means['DebtMid'] = bin_means['DebtBin'].apply(lambda x: x.mid)\n",
    "\n",
    "# Wykres liniowy\n",
    "plt.plot(bin_means['DebtMid'], bin_means['SeriousDlqin2yrs'], marker='o')\n",
    "plt.xlabel('DebtRatio')\n",
    "plt.ylabel('Średni target (prawdopodobieństwo defaultu)')\n",
    "plt.title('Zależność targetu od DebtRatio')\n",
    "plt.grid(True)\n",
    "plt.show()"
   ]
  },
  {
   "cell_type": "code",
   "execution_count": 17,
   "id": "5fc943e5-e9f9-4ea1-a250-f568095b9e7d",
   "metadata": {},
   "outputs": [
    {
     "data": {
      "text/plain": [
       "<Axes: >"
      ]
     },
     "execution_count": 17,
     "metadata": {},
     "output_type": "execute_result"
    },
    {
     "data": {
      "image/png": "[encoded data removed]",
      "text/plain": [
       "<Figure size 640x480 with 1 Axes>"
      ]
     },
     "metadata": {},
     "output_type": "display_data"
    }
   ],
   "source": [
    "df[df['MonthlyIncome'] == 0]['DebtRatio'].describe()\n",
    "df['DebtRatio'].hist(bins=100)"
   ]
  },
  {
   "cell_type": "code",
   "execution_count": 18,
   "id": "c8c4806b-362a-4ffd-8dd5-3fd75d19e4f6",
   "metadata": {},
   "outputs": [
    {
     "data": {
      "text/html": [
       "<div>\n",
       "<style scoped>\n",
       "    .dataframe tbody tr th:only-of-type {\n",
       "        vertical-align: middle;\n",
       "    }\n",
       "\n",
       "    .dataframe tbody tr th {\n",
       "        vertical-align: top;\n",
       "    }\n",
       "\n",
       "    .dataframe thead th {\n",
       "        text-align: right;\n",
       "    }\n",
       "</style>\n",
       "<table border=\"1\" class=\"dataframe\">\n",
       "  <thead>\n",
       "    <tr style=\"text-align: right;\">\n",
       "      <th></th>\n",
       "      <th>Unnamed: 0</th>\n",
       "      <th>SeriousDlqin2yrs</th>\n",
       "      <th>RevolvingUtilizationOfUnsecuredLines</th>\n",
       "      <th>age</th>\n",
       "      <th>NumberOfTime30-59DaysPastDueNotWorse</th>\n",
       "      <th>DebtRatio</th>\n",
       "      <th>MonthlyIncome</th>\n",
       "      <th>NumberOfOpenCreditLinesAndLoans</th>\n",
       "      <th>NumberOfTimes90DaysLate</th>\n",
       "      <th>NumberRealEstateLoansOrLines</th>\n",
       "      <th>NumberOfTime60-89DaysPastDueNotWorse</th>\n",
       "      <th>NumberOfDependents</th>\n",
       "      <th>DebtBin</th>\n",
       "    </tr>\n",
       "  </thead>\n",
       "  <tbody>\n",
       "    <tr>\n",
       "      <th>0</th>\n",
       "      <td>1</td>\n",
       "      <td>1</td>\n",
       "      <td>0.766127</td>\n",
       "      <td>45</td>\n",
       "      <td>2</td>\n",
       "      <td>0.802982</td>\n",
       "      <td>9120.0</td>\n",
       "      <td>13</td>\n",
       "      <td>0</td>\n",
       "      <td>6</td>\n",
       "      <td>0</td>\n",
       "      <td>2.0</td>\n",
       "      <td>(0.803, 0.951]</td>\n",
       "    </tr>\n",
       "    <tr>\n",
       "      <th>1</th>\n",
       "      <td>2</td>\n",
       "      <td>0</td>\n",
       "      <td>0.957151</td>\n",
       "      <td>40</td>\n",
       "      <td>0</td>\n",
       "      <td>0.121876</td>\n",
       "      <td>2600.0</td>\n",
       "      <td>4</td>\n",
       "      <td>0</td>\n",
       "      <td>0</td>\n",
       "      <td>0</td>\n",
       "      <td>1.0</td>\n",
       "      <td>(0.116, 0.134]</td>\n",
       "    </tr>\n",
       "    <tr>\n",
       "      <th>2</th>\n",
       "      <td>3</td>\n",
       "      <td>0</td>\n",
       "      <td>0.658180</td>\n",
       "      <td>38</td>\n",
       "      <td>1</td>\n",
       "      <td>0.085113</td>\n",
       "      <td>3042.0</td>\n",
       "      <td>2</td>\n",
       "      <td>1</td>\n",
       "      <td>0</td>\n",
       "      <td>0</td>\n",
       "      <td>0.0</td>\n",
       "      <td>(0.0765, 0.0968]</td>\n",
       "    </tr>\n",
       "    <tr>\n",
       "      <th>3</th>\n",
       "      <td>4</td>\n",
       "      <td>0</td>\n",
       "      <td>0.233810</td>\n",
       "      <td>30</td>\n",
       "      <td>0</td>\n",
       "      <td>0.036050</td>\n",
       "      <td>3300.0</td>\n",
       "      <td>5</td>\n",
       "      <td>0</td>\n",
       "      <td>0</td>\n",
       "      <td>0</td>\n",
       "      <td>0.0</td>\n",
       "      <td>(0.0309, 0.0546]</td>\n",
       "    </tr>\n",
       "    <tr>\n",
       "      <th>4</th>\n",
       "      <td>5</td>\n",
       "      <td>0</td>\n",
       "      <td>0.907239</td>\n",
       "      <td>49</td>\n",
       "      <td>1</td>\n",
       "      <td>0.024926</td>\n",
       "      <td>63588.0</td>\n",
       "      <td>7</td>\n",
       "      <td>0</td>\n",
       "      <td>1</td>\n",
       "      <td>0</td>\n",
       "      <td>0.0</td>\n",
       "      <td>(0.0148, 0.0309]</td>\n",
       "    </tr>\n",
       "    <tr>\n",
       "      <th>...</th>\n",
       "      <td>...</td>\n",
       "      <td>...</td>\n",
       "      <td>...</td>\n",
       "      <td>...</td>\n",
       "      <td>...</td>\n",
       "      <td>...</td>\n",
       "      <td>...</td>\n",
       "      <td>...</td>\n",
       "      <td>...</td>\n",
       "      <td>...</td>\n",
       "      <td>...</td>\n",
       "      <td>...</td>\n",
       "      <td>...</td>\n",
       "    </tr>\n",
       "    <tr>\n",
       "      <th>149995</th>\n",
       "      <td>149996</td>\n",
       "      <td>0</td>\n",
       "      <td>0.040674</td>\n",
       "      <td>74</td>\n",
       "      <td>0</td>\n",
       "      <td>0.225131</td>\n",
       "      <td>2100.0</td>\n",
       "      <td>4</td>\n",
       "      <td>0</td>\n",
       "      <td>1</td>\n",
       "      <td>0</td>\n",
       "      <td>0.0</td>\n",
       "      <td>(0.214, 0.228]</td>\n",
       "    </tr>\n",
       "    <tr>\n",
       "      <th>149996</th>\n",
       "      <td>149997</td>\n",
       "      <td>0</td>\n",
       "      <td>0.299745</td>\n",
       "      <td>44</td>\n",
       "      <td>0</td>\n",
       "      <td>0.716562</td>\n",
       "      <td>5584.0</td>\n",
       "      <td>4</td>\n",
       "      <td>0</td>\n",
       "      <td>1</td>\n",
       "      <td>0</td>\n",
       "      <td>2.0</td>\n",
       "      <td>(0.712, 0.803]</td>\n",
       "    </tr>\n",
       "    <tr>\n",
       "      <th>149997</th>\n",
       "      <td>149998</td>\n",
       "      <td>0</td>\n",
       "      <td>0.246044</td>\n",
       "      <td>58</td>\n",
       "      <td>0</td>\n",
       "      <td>3870.000000</td>\n",
       "      <td>NaN</td>\n",
       "      <td>18</td>\n",
       "      <td>0</td>\n",
       "      <td>1</td>\n",
       "      <td>0</td>\n",
       "      <td>0.0</td>\n",
       "      <td>(3839.0, 329664.0]</td>\n",
       "    </tr>\n",
       "    <tr>\n",
       "      <th>149998</th>\n",
       "      <td>149999</td>\n",
       "      <td>0</td>\n",
       "      <td>0.000000</td>\n",
       "      <td>30</td>\n",
       "      <td>0</td>\n",
       "      <td>0.000000</td>\n",
       "      <td>5716.0</td>\n",
       "      <td>4</td>\n",
       "      <td>0</td>\n",
       "      <td>0</td>\n",
       "      <td>0</td>\n",
       "      <td>0.0</td>\n",
       "      <td>(-0.001, 0.00228]</td>\n",
       "    </tr>\n",
       "    <tr>\n",
       "      <th>149999</th>\n",
       "      <td>150000</td>\n",
       "      <td>0</td>\n",
       "      <td>0.850283</td>\n",
       "      <td>64</td>\n",
       "      <td>0</td>\n",
       "      <td>0.249908</td>\n",
       "      <td>8158.0</td>\n",
       "      <td>8</td>\n",
       "      <td>0</td>\n",
       "      <td>2</td>\n",
       "      <td>0</td>\n",
       "      <td>0.0</td>\n",
       "      <td>(0.243, 0.258]</td>\n",
       "    </tr>\n",
       "  </tbody>\n",
       "</table>\n",
       "<p>150000 rows × 13 columns</p>\n",
       "</div>"
      ],
      "text/plain": [
       "        Unnamed: 0  SeriousDlqin2yrs  RevolvingUtilizationOfUnsecuredLines  \\\n",
       "0                1                 1                              0.766127   \n",
       "1                2                 0                              0.957151   \n",
       "2                3                 0                              0.658180   \n",
       "3                4                 0                              0.233810   \n",
       "4                5                 0                              0.907239   \n",
       "...            ...               ...                                   ...   \n",
       "149995      149996                 0                              0.040674   \n",
       "149996      149997                 0                              0.299745   \n",
       "149997      149998                 0                              0.246044   \n",
       "149998      149999                 0                              0.000000   \n",
       "149999      150000                 0                              0.850283   \n",
       "\n",
       "        age  NumberOfTime30-59DaysPastDueNotWorse    DebtRatio  MonthlyIncome  \\\n",
       "0        45                                     2     0.802982         9120.0   \n",
       "1        40                                     0     0.121876         2600.0   \n",
       "2        38                                     1     0.085113         3042.0   \n",
       "3        30                                     0     0.036050         3300.0   \n",
       "4        49                                     1     0.024926        63588.0   \n",
       "...     ...                                   ...          ...            ...   \n",
       "149995   74                                     0     0.225131         2100.0   \n",
       "149996   44                                     0     0.716562         5584.0   \n",
       "149997   58                                     0  3870.000000            NaN   \n",
       "149998   30                                     0     0.000000         5716.0   \n",
       "149999   64                                     0     0.249908         8158.0   \n",
       "\n",
       "        NumberOfOpenCreditLinesAndLoans  NumberOfTimes90DaysLate  \\\n",
       "0                                    13                        0   \n",
       "1                                     4                        0   \n",
       "2                                     2                        1   \n",
       "3                                     5                        0   \n",
       "4                                     7                        0   \n",
       "...                                 ...                      ...   \n",
       "149995                                4                        0   \n",
       "149996                                4                        0   \n",
       "149997                               18                        0   \n",
       "149998                                4                        0   \n",
       "149999                                8                        0   \n",
       "\n",
       "        NumberRealEstateLoansOrLines  NumberOfTime60-89DaysPastDueNotWorse  \\\n",
       "0                                  6                                     0   \n",
       "1                                  0                                     0   \n",
       "2                                  0                                     0   \n",
       "3                                  0                                     0   \n",
       "4                                  1                                     0   \n",
       "...                              ...                                   ...   \n",
       "149995                             1                                     0   \n",
       "149996                             1                                     0   \n",
       "149997                             1                                     0   \n",
       "149998                             0                                     0   \n",
       "149999                             2                                     0   \n",
       "\n",
       "        NumberOfDependents             DebtBin  \n",
       "0                      2.0      (0.803, 0.951]  \n",
       "1                      1.0      (0.116, 0.134]  \n",
       "2                      0.0    (0.0765, 0.0968]  \n",
       "3                      0.0    (0.0309, 0.0546]  \n",
       "4                      0.0    (0.0148, 0.0309]  \n",
       "...                    ...                 ...  \n",
       "149995                 0.0      (0.214, 0.228]  \n",
       "149996                 2.0      (0.712, 0.803]  \n",
       "149997                 0.0  (3839.0, 329664.0]  \n",
       "149998                 0.0   (-0.001, 0.00228]  \n",
       "149999                 0.0      (0.243, 0.258]  \n",
       "\n",
       "[150000 rows x 13 columns]"
      ]
     },
     "execution_count": 18,
     "metadata": {},
     "output_type": "execute_result"
    }
   ],
   "source": [
    "df"
   ]
  },
  {
   "cell_type": "code",
   "execution_count": 19,
   "id": "79628e15-8bbc-4eeb-ac47-ec345657a61d",
   "metadata": {},
   "outputs": [
    {
     "name": "stderr",
     "output_type": "stream",
     "text": [
      "/var/folders/5x/xp_2x3wd43x6lvvb5q3xks6h0000gn/T/ipykernel_59131/2343737305.py:2: FutureWarning: The default of observed=False is deprecated and will be changed to True in a future version of pandas. Pass observed=False to retain current behavior or observed=True to adopt the future default and silence this warning.\n",
      "  df.groupby('debt_bin')['target'].mean().plot(kind='line', marker='o')\n"
     ]
    },
    {
     "ename": "KeyError",
     "evalue": "'Column not found: target'",
     "output_type": "error",
     "traceback": [
      "\u001B[31m---------------------------------------------------------------------------\u001B[39m",
      "\u001B[31mKeyError\u001B[39m                                  Traceback (most recent call last)",
      "\u001B[36mCell\u001B[39m\u001B[36m \u001B[39m\u001B[32mIn[19]\u001B[39m\u001B[32m, line 2\u001B[39m\n\u001B[32m      1\u001B[39m df[\u001B[33m'\u001B[39m\u001B[33mdebt_bin\u001B[39m\u001B[33m'\u001B[39m] = pd.qcut(df[\u001B[33m'\u001B[39m\u001B[33mDebtRatio\u001B[39m\u001B[33m'\u001B[39m], q=\u001B[32m10\u001B[39m, duplicates=\u001B[33m'\u001B[39m\u001B[33mdrop\u001B[39m\u001B[33m'\u001B[39m)\n\u001B[32m----> \u001B[39m\u001B[32m2\u001B[39m \u001B[43mdf\u001B[49m\u001B[43m.\u001B[49m\u001B[43mgroupby\u001B[49m\u001B[43m(\u001B[49m\u001B[33;43m'\u001B[39;49m\u001B[33;43mdebt_bin\u001B[39;49m\u001B[33;43m'\u001B[39;49m\u001B[43m)\u001B[49m\u001B[43m[\u001B[49m\u001B[33;43m'\u001B[39;49m\u001B[33;43mtarget\u001B[39;49m\u001B[33;43m'\u001B[39;49m\u001B[43m]\u001B[49m.mean().plot(kind=\u001B[33m'\u001B[39m\u001B[33mline\u001B[39m\u001B[33m'\u001B[39m, marker=\u001B[33m'\u001B[39m\u001B[33mo\u001B[39m\u001B[33m'\u001B[39m)\n",
      "\u001B[36mFile \u001B[39m\u001B[32m/Library/Frameworks/Python.framework/Versions/3.13/lib/python3.13/site-packages/pandas/core/groupby/generic.py:1951\u001B[39m, in \u001B[36mDataFrameGroupBy.__getitem__\u001B[39m\u001B[34m(self, key)\u001B[39m\n\u001B[32m   1944\u001B[39m \u001B[38;5;28;01mif\u001B[39;00m \u001B[38;5;28misinstance\u001B[39m(key, \u001B[38;5;28mtuple\u001B[39m) \u001B[38;5;129;01mand\u001B[39;00m \u001B[38;5;28mlen\u001B[39m(key) > \u001B[32m1\u001B[39m:\n\u001B[32m   1945\u001B[39m     \u001B[38;5;66;03m# if len == 1, then it becomes a SeriesGroupBy and this is actually\u001B[39;00m\n\u001B[32m   1946\u001B[39m     \u001B[38;5;66;03m# valid syntax, so don't raise\u001B[39;00m\n\u001B[32m   1947\u001B[39m     \u001B[38;5;28;01mraise\u001B[39;00m \u001B[38;5;167;01mValueError\u001B[39;00m(\n\u001B[32m   1948\u001B[39m         \u001B[33m\"\u001B[39m\u001B[33mCannot subset columns with a tuple with more than one element. \u001B[39m\u001B[33m\"\u001B[39m\n\u001B[32m   1949\u001B[39m         \u001B[33m\"\u001B[39m\u001B[33mUse a list instead.\u001B[39m\u001B[33m\"\u001B[39m\n\u001B[32m   1950\u001B[39m     )\n\u001B[32m-> \u001B[39m\u001B[32m1951\u001B[39m \u001B[38;5;28;01mreturn\u001B[39;00m \u001B[38;5;28;43msuper\u001B[39;49m\u001B[43m(\u001B[49m\u001B[43m)\u001B[49m\u001B[43m.\u001B[49m\u001B[34;43m__getitem__\u001B[39;49m\u001B[43m(\u001B[49m\u001B[43mkey\u001B[49m\u001B[43m)\u001B[49m\n",
      "\u001B[36mFile \u001B[39m\u001B[32m/Library/Frameworks/Python.framework/Versions/3.13/lib/python3.13/site-packages/pandas/core/base.py:244\u001B[39m, in \u001B[36mSelectionMixin.__getitem__\u001B[39m\u001B[34m(self, key)\u001B[39m\n\u001B[32m    242\u001B[39m \u001B[38;5;28;01melse\u001B[39;00m:\n\u001B[32m    243\u001B[39m     \u001B[38;5;28;01mif\u001B[39;00m key \u001B[38;5;129;01mnot\u001B[39;00m \u001B[38;5;129;01min\u001B[39;00m \u001B[38;5;28mself\u001B[39m.obj:\n\u001B[32m--> \u001B[39m\u001B[32m244\u001B[39m         \u001B[38;5;28;01mraise\u001B[39;00m \u001B[38;5;167;01mKeyError\u001B[39;00m(\u001B[33mf\u001B[39m\u001B[33m\"\u001B[39m\u001B[33mColumn not found: \u001B[39m\u001B[38;5;132;01m{\u001B[39;00mkey\u001B[38;5;132;01m}\u001B[39;00m\u001B[33m\"\u001B[39m)\n\u001B[32m    245\u001B[39m     ndim = \u001B[38;5;28mself\u001B[39m.obj[key].ndim\n\u001B[32m    246\u001B[39m     \u001B[38;5;28;01mreturn\u001B[39;00m \u001B[38;5;28mself\u001B[39m._gotitem(key, ndim=ndim)\n",
      "\u001B[31mKeyError\u001B[39m: 'Column not found: target'"
     ]
    }
   ],
   "source": [
    "df['debt_bin'] = pd.qcut(df['DebtRatio'], q=10, duplicates='drop')\n",
    "df.groupby('debt_bin')['target'].mean().plot(kind='line', marker='o')"
   ]
  },
  {
   "cell_type": "code",
   "execution_count": 20,
   "id": "2e8b9a09-4e72-460f-a8b1-78cef25c5bc2",
   "metadata": {},
   "outputs": [
    {
     "name": "stderr",
     "output_type": "stream",
     "text": [
      "/var/folders/5x/xp_2x3wd43x6lvvb5q3xks6h0000gn/T/ipykernel_59131/1219677945.py:2: FutureWarning: The default of observed=False is deprecated and will be changed to True in a future version of pandas. Pass observed=False to retain current behavior or observed=True to adopt the future default and silence this warning.\n",
      "  df.groupby('debt_bin')['SeriousDlqin2yrs'].mean().plot(kind='line', marker='o')\n"
     ]
    },
    {
     "data": {
      "text/plain": [
       "<Axes: xlabel='debt_bin'>"
      ]
     },
     "execution_count": 20,
     "metadata": {},
     "output_type": "execute_result"
    },
    {
     "data": {
      "image/png": "[encoded data removed]",
      "text/plain": [
       "<Figure size 640x480 with 1 Axes>"
      ]
     },
     "metadata": {},
     "output_type": "display_data"
    }
   ],
   "source": [
    "df['debt_bin'] = pd.qcut(df['DebtRatio'], q=10, duplicates='drop')\n",
    "df.groupby('debt_bin')['SeriousDlqin2yrs'].mean().plot(kind='line', marker='o')"
   ]
  },
  {
   "cell_type": "code",
   "execution_count": 21,
   "id": "59637187-771d-4232-9e04-1ee03947ce5d",
   "metadata": {},
   "outputs": [
    {
     "data": {
      "text/html": [
       "<div>\n",
       "<style scoped>\n",
       "    .dataframe tbody tr th:only-of-type {\n",
       "        vertical-align: middle;\n",
       "    }\n",
       "\n",
       "    .dataframe tbody tr th {\n",
       "        vertical-align: top;\n",
       "    }\n",
       "\n",
       "    .dataframe thead th {\n",
       "        text-align: right;\n",
       "    }\n",
       "</style>\n",
       "<table border=\"1\" class=\"dataframe\">\n",
       "  <thead>\n",
       "    <tr style=\"text-align: right;\">\n",
       "      <th></th>\n",
       "      <th>count</th>\n",
       "      <th>mean</th>\n",
       "      <th>std</th>\n",
       "      <th>min</th>\n",
       "      <th>25%</th>\n",
       "      <th>50%</th>\n",
       "      <th>75%</th>\n",
       "      <th>max</th>\n",
       "    </tr>\n",
       "    <tr>\n",
       "      <th>SeriousDlqin2yrs</th>\n",
       "      <th></th>\n",
       "      <th></th>\n",
       "      <th></th>\n",
       "      <th></th>\n",
       "      <th></th>\n",
       "      <th></th>\n",
       "      <th></th>\n",
       "      <th></th>\n",
       "    </tr>\n",
       "  </thead>\n",
       "  <tbody>\n",
       "    <tr>\n",
       "      <th>0</th>\n",
       "      <td>6500.0</td>\n",
       "      <td>2127.664615</td>\n",
       "      <td>2805.151162</td>\n",
       "      <td>0.0</td>\n",
       "      <td>1.0</td>\n",
       "      <td>1410.0</td>\n",
       "      <td>3100.0</td>\n",
       "      <td>70000.0</td>\n",
       "    </tr>\n",
       "    <tr>\n",
       "      <th>1</th>\n",
       "      <td>733.0</td>\n",
       "      <td>3423.195089</td>\n",
       "      <td>2796.073784</td>\n",
       "      <td>0.0</td>\n",
       "      <td>1487.0</td>\n",
       "      <td>2900.0</td>\n",
       "      <td>4600.0</td>\n",
       "      <td>17170.0</td>\n",
       "    </tr>\n",
       "  </tbody>\n",
       "</table>\n",
       "</div>"
      ],
      "text/plain": [
       "                   count         mean          std  min     25%     50%  \\\n",
       "SeriousDlqin2yrs                                                          \n",
       "0                 6500.0  2127.664615  2805.151162  0.0     1.0  1410.0   \n",
       "1                  733.0  3423.195089  2796.073784  0.0  1487.0  2900.0   \n",
       "\n",
       "                     75%      max  \n",
       "SeriousDlqin2yrs                   \n",
       "0                 3100.0  70000.0  \n",
       "1                 4600.0  17170.0  "
      ]
     },
     "execution_count": 21,
     "metadata": {},
     "output_type": "execute_result"
    }
   ],
   "source": [
    "df[df['DebtRatio'] > 1].groupby('SeriousDlqin2yrs')['MonthlyIncome'].describe()"
   ]
  },
  {
   "cell_type": "code",
   "execution_count": 22,
   "id": "437544df-748c-4a0d-8eda-37ff621898e2",
   "metadata": {},
   "outputs": [],
   "source": [
    "df_clean = df[df['DebtRatio'] < 2]"
   ]
  },
  {
   "cell_type": "code",
   "execution_count": 23,
   "id": "097aa3dc-857e-4023-adcf-d3b0cb606193",
   "metadata": {},
   "outputs": [
    {
     "name": "stderr",
     "output_type": "stream",
     "text": [
      "/var/folders/5x/xp_2x3wd43x6lvvb5q3xks6h0000gn/T/ipykernel_59131/2343737305.py:2: FutureWarning: The default of observed=False is deprecated and will be changed to True in a future version of pandas. Pass observed=False to retain current behavior or observed=True to adopt the future default and silence this warning.\n",
      "  df.groupby('debt_bin')['target'].mean().plot(kind='line', marker='o')\n"
     ]
    },
    {
     "ename": "KeyError",
     "evalue": "'Column not found: target'",
     "output_type": "error",
     "traceback": [
      "\u001B[31m---------------------------------------------------------------------------\u001B[39m",
      "\u001B[31mKeyError\u001B[39m                                  Traceback (most recent call last)",
      "\u001B[36mCell\u001B[39m\u001B[36m \u001B[39m\u001B[32mIn[23]\u001B[39m\u001B[32m, line 2\u001B[39m\n\u001B[32m      1\u001B[39m df[\u001B[33m'\u001B[39m\u001B[33mdebt_bin\u001B[39m\u001B[33m'\u001B[39m] = pd.qcut(df[\u001B[33m'\u001B[39m\u001B[33mDebtRatio\u001B[39m\u001B[33m'\u001B[39m], q=\u001B[32m10\u001B[39m, duplicates=\u001B[33m'\u001B[39m\u001B[33mdrop\u001B[39m\u001B[33m'\u001B[39m)\n\u001B[32m----> \u001B[39m\u001B[32m2\u001B[39m \u001B[43mdf\u001B[49m\u001B[43m.\u001B[49m\u001B[43mgroupby\u001B[49m\u001B[43m(\u001B[49m\u001B[33;43m'\u001B[39;49m\u001B[33;43mdebt_bin\u001B[39;49m\u001B[33;43m'\u001B[39;49m\u001B[43m)\u001B[49m\u001B[43m[\u001B[49m\u001B[33;43m'\u001B[39;49m\u001B[33;43mtarget\u001B[39;49m\u001B[33;43m'\u001B[39;49m\u001B[43m]\u001B[49m.mean().plot(kind=\u001B[33m'\u001B[39m\u001B[33mline\u001B[39m\u001B[33m'\u001B[39m, marker=\u001B[33m'\u001B[39m\u001B[33mo\u001B[39m\u001B[33m'\u001B[39m)\n",
      "\u001B[36mFile \u001B[39m\u001B[32m/Library/Frameworks/Python.framework/Versions/3.13/lib/python3.13/site-packages/pandas/core/groupby/generic.py:1951\u001B[39m, in \u001B[36mDataFrameGroupBy.__getitem__\u001B[39m\u001B[34m(self, key)\u001B[39m\n\u001B[32m   1944\u001B[39m \u001B[38;5;28;01mif\u001B[39;00m \u001B[38;5;28misinstance\u001B[39m(key, \u001B[38;5;28mtuple\u001B[39m) \u001B[38;5;129;01mand\u001B[39;00m \u001B[38;5;28mlen\u001B[39m(key) > \u001B[32m1\u001B[39m:\n\u001B[32m   1945\u001B[39m     \u001B[38;5;66;03m# if len == 1, then it becomes a SeriesGroupBy and this is actually\u001B[39;00m\n\u001B[32m   1946\u001B[39m     \u001B[38;5;66;03m# valid syntax, so don't raise\u001B[39;00m\n\u001B[32m   1947\u001B[39m     \u001B[38;5;28;01mraise\u001B[39;00m \u001B[38;5;167;01mValueError\u001B[39;00m(\n\u001B[32m   1948\u001B[39m         \u001B[33m\"\u001B[39m\u001B[33mCannot subset columns with a tuple with more than one element. \u001B[39m\u001B[33m\"\u001B[39m\n\u001B[32m   1949\u001B[39m         \u001B[33m\"\u001B[39m\u001B[33mUse a list instead.\u001B[39m\u001B[33m\"\u001B[39m\n\u001B[32m   1950\u001B[39m     )\n\u001B[32m-> \u001B[39m\u001B[32m1951\u001B[39m \u001B[38;5;28;01mreturn\u001B[39;00m \u001B[38;5;28;43msuper\u001B[39;49m\u001B[43m(\u001B[49m\u001B[43m)\u001B[49m\u001B[43m.\u001B[49m\u001B[34;43m__getitem__\u001B[39;49m\u001B[43m(\u001B[49m\u001B[43mkey\u001B[49m\u001B[43m)\u001B[49m\n",
      "\u001B[36mFile \u001B[39m\u001B[32m/Library/Frameworks/Python.framework/Versions/3.13/lib/python3.13/site-packages/pandas/core/base.py:244\u001B[39m, in \u001B[36mSelectionMixin.__getitem__\u001B[39m\u001B[34m(self, key)\u001B[39m\n\u001B[32m    242\u001B[39m \u001B[38;5;28;01melse\u001B[39;00m:\n\u001B[32m    243\u001B[39m     \u001B[38;5;28;01mif\u001B[39;00m key \u001B[38;5;129;01mnot\u001B[39;00m \u001B[38;5;129;01min\u001B[39;00m \u001B[38;5;28mself\u001B[39m.obj:\n\u001B[32m--> \u001B[39m\u001B[32m244\u001B[39m         \u001B[38;5;28;01mraise\u001B[39;00m \u001B[38;5;167;01mKeyError\u001B[39;00m(\u001B[33mf\u001B[39m\u001B[33m\"\u001B[39m\u001B[33mColumn not found: \u001B[39m\u001B[38;5;132;01m{\u001B[39;00mkey\u001B[38;5;132;01m}\u001B[39;00m\u001B[33m\"\u001B[39m)\n\u001B[32m    245\u001B[39m     ndim = \u001B[38;5;28mself\u001B[39m.obj[key].ndim\n\u001B[32m    246\u001B[39m     \u001B[38;5;28;01mreturn\u001B[39;00m \u001B[38;5;28mself\u001B[39m._gotitem(key, ndim=ndim)\n",
      "\u001B[31mKeyError\u001B[39m: 'Column not found: target'"
     ]
    }
   ],
   "source": [
    "df['debt_bin'] = pd.qcut(df['DebtRatio'], q=10, duplicates='drop')\n",
    "df.groupby('debt_bin')['target'].mean().plot(kind='line', marker='o')"
   ]
  },
  {
   "cell_type": "code",
   "execution_count": 24,
   "id": "a06f41ab-5492-4d1c-a838-1f9d7915671f",
   "metadata": {},
   "outputs": [
    {
     "name": "stderr",
     "output_type": "stream",
     "text": [
      "/var/folders/5x/xp_2x3wd43x6lvvb5q3xks6h0000gn/T/ipykernel_59131/1219677945.py:2: FutureWarning: The default of observed=False is deprecated and will be changed to True in a future version of pandas. Pass observed=False to retain current behavior or observed=True to adopt the future default and silence this warning.\n",
      "  df.groupby('debt_bin')['SeriousDlqin2yrs'].mean().plot(kind='line', marker='o')\n"
     ]
    },
    {
     "data": {
      "text/plain": [
       "<Axes: xlabel='debt_bin'>"
      ]
     },
     "execution_count": 24,
     "metadata": {},
     "output_type": "execute_result"
    },
    {
     "data": {
      "image/png": "[encoded data removed]",
      "text/plain": [
       "<Figure size 640x480 with 1 Axes>"
      ]
     },
     "metadata": {},
     "output_type": "display_data"
    }
   ],
   "source": [
    "df['debt_bin'] = pd.qcut(df['DebtRatio'], q=10, duplicates='drop')\n",
    "df.groupby('debt_bin')['SeriousDlqin2yrs'].mean().plot(kind='line', marker='o')"
   ]
  },
  {
   "cell_type": "code",
   "execution_count": 25,
   "id": "164b263e-ed28-45c4-b741-65e27d54ae2c",
   "metadata": {},
   "outputs": [],
   "source": [
    "df_clean = df[df['DebtRatio'] < 2]"
   ]
  },
  {
   "cell_type": "code",
   "execution_count": 26,
   "id": "17df1133-e970-4ac4-a9c1-01faefb84c52",
   "metadata": {},
   "outputs": [
    {
     "name": "stderr",
     "output_type": "stream",
     "text": [
      "/var/folders/5x/xp_2x3wd43x6lvvb5q3xks6h0000gn/T/ipykernel_59131/1219677945.py:2: FutureWarning: The default of observed=False is deprecated and will be changed to True in a future version of pandas. Pass observed=False to retain current behavior or observed=True to adopt the future default and silence this warning.\n",
      "  df.groupby('debt_bin')['SeriousDlqin2yrs'].mean().plot(kind='line', marker='o')\n"
     ]
    },
    {
     "data": {
      "text/plain": [
       "<Axes: xlabel='debt_bin'>"
      ]
     },
     "execution_count": 26,
     "metadata": {},
     "output_type": "execute_result"
    },
    {
     "data": {
      "image/png": "[encoded data removed]",
      "text/plain": [
       "<Figure size 640x480 with 1 Axes>"
      ]
     },
     "metadata": {},
     "output_type": "display_data"
    }
   ],
   "source": [
    "df['debt_bin'] = pd.qcut(df['DebtRatio'], q=10, duplicates='drop')\n",
    "df.groupby('debt_bin')['SeriousDlqin2yrs'].mean().plot(kind='line', marker='o')"
   ]
  },
  {
   "cell_type": "code",
   "execution_count": 27,
   "id": "44f4b971-3f91-4e3a-af94-a865adb948e0",
   "metadata": {},
   "outputs": [
    {
     "data": {
      "text/plain": [
       "0               (0.649, 4.0]\n",
       "1            (0.0309, 0.134]\n",
       "2            (0.0309, 0.134]\n",
       "3            (0.0309, 0.134]\n",
       "4           (-0.001, 0.0309]\n",
       "                 ...        \n",
       "149995        (0.214, 0.287]\n",
       "149996          (0.649, 4.0]\n",
       "149997    (1267.0, 329664.0]\n",
       "149998      (-0.001, 0.0309]\n",
       "149999        (0.214, 0.287]\n",
       "Name: debt_bin, Length: 150000, dtype: category\n",
       "Categories (10, interval[float64, right]): [(-0.001, 0.0309] < (0.0309, 0.134] < (0.134, 0.214] < (0.214, 0.287] ... (0.468, 0.649] < (0.649, 4.0] < (4.0, 1267.0] < (1267.0, 329664.0]]"
      ]
     },
     "execution_count": 27,
     "metadata": {},
     "output_type": "execute_result"
    }
   ],
   "source": [
    "df['debt_bin']"
   ]
  },
  {
   "cell_type": "code",
   "execution_count": 28,
   "id": "686dd73e-ddef-407a-a0a7-8d9abf29ca9a",
   "metadata": {},
   "outputs": [
    {
     "name": "stdout",
     "output_type": "stream",
     "text": [
      "        DebtRatio\n",
      "60152    329664.0\n",
      "36600    326442.0\n",
      "127047   307001.0\n",
      "58900    220516.0\n",
      "4854     168835.0\n",
      "7513     110952.0\n",
      "103041   106885.0\n",
      "69845    101320.0\n",
      "66785     61907.0\n",
      "53682     61106.5\n"
     ]
    }
   ],
   "source": [
    "print(df[['DebtRatio']].sort_values(by='DebtRatio', ascending=False).head(10))"
   ]
  },
  {
   "cell_type": "code",
   "execution_count": 30,
   "id": "362ea890-2043-4efa-b700-f9c195e76e33",
   "metadata": {},
   "outputs": [
    {
     "name": "stdout",
     "output_type": "stream",
     "text": [
      "        DebtRatio\n",
      "60152    329664.0\n",
      "36600    326442.0\n",
      "127047   307001.0\n",
      "58900    220516.0\n",
      "4854     168835.0\n",
      "7513     110952.0\n",
      "103041   106885.0\n",
      "69845    101320.0\n",
      "66785     61907.0\n",
      "53682     61106.5\n",
      "127898    60212.0\n",
      "46102     52112.0\n",
      "146310    49112.0\n",
      "36666     43843.0\n",
      "27188     40385.0\n",
      "106447    40362.0\n",
      "46404     38793.0\n",
      "144341    36705.0\n",
      "123260    34719.0\n",
      "119909    34102.0\n"
     ]
    }
   ],
   "source": [
    "print(df[['DebtRatio']].sort_values(by='DebtRatio', ascending=False).head(20\n",
    "                                                                          \n",
    "                                                                             ))"
   ]
  },
  {
   "cell_type": "code",
   "execution_count": 31,
   "id": "c0aa1ff3-6a68-48cd-8683-1d17ff824f45",
   "metadata": {},
   "outputs": [
    {
     "data": {
      "text/plain": [
       "150000"
      ]
     },
     "execution_count": 31,
     "metadata": {},
     "output_type": "execute_result"
    }
   ],
   "source": [
    "len(df)"
   ]
  },
  {
   "cell_type": "code",
   "execution_count": 32,
   "id": "e1a879ed-8617-4f26-8fd7-0c801bf6453b",
   "metadata": {},
   "outputs": [],
   "source": [
    "df = df[df['DebtRatio'] <= 1]"
   ]
  },
  {
   "cell_type": "code",
   "execution_count": 33,
   "id": "a06dc47a-2816-4a28-b96e-ec48c5593073",
   "metadata": {},
   "outputs": [
    {
     "data": {
      "text/plain": [
       "114863"
      ]
     },
     "execution_count": 33,
     "metadata": {},
     "output_type": "execute_result"
    }
   ],
   "source": [
    "len(df)"
   ]
  },
  {
   "cell_type": "code",
   "execution_count": 35,
   "id": "574233bc-abfe-4684-a085-0fbc7d92144c",
   "metadata": {},
   "outputs": [
    {
     "name": "stdout",
     "output_type": "stream",
     "text": [
      "        DebtRatio\n",
      "92055         1.0\n",
      "51583         1.0\n",
      "147760        1.0\n",
      "2762          1.0\n",
      "50343         1.0\n",
      "11863         1.0\n",
      "107703        1.0\n",
      "20787         1.0\n",
      "50692         1.0\n",
      "50803         1.0\n"
     ]
    }
   ],
   "source": [
    "print(df[['DebtRatio']].sort_values(by='DebtRatio', ascending=False).head(10))"
   ]
  },
  {
   "cell_type": "code",
   "execution_count": 36,
   "id": "134a848d-d710-4aee-8918-b692d6489ebe",
   "metadata": {},
   "outputs": [
    {
     "name": "stderr",
     "output_type": "stream",
     "text": [
      "/var/folders/5x/xp_2x3wd43x6lvvb5q3xks6h0000gn/T/ipykernel_59131/1219677945.py:1: SettingWithCopyWarning: \n",
      "A value is trying to be set on a copy of a slice from a DataFrame.\n",
      "Try using .loc[row_indexer,col_indexer] = value instead\n",
      "\n",
      "See the caveats in the documentation: https://pandas.pydata.org/pandas-docs/stable/user_guide/indexing.html#returning-a-view-versus-a-copy\n",
      "  df['debt_bin'] = pd.qcut(df['DebtRatio'], q=10, duplicates='drop')\n",
      "/var/folders/5x/xp_2x3wd43x6lvvb5q3xks6h0000gn/T/ipykernel_59131/1219677945.py:2: FutureWarning: The default of observed=False is deprecated and will be changed to True in a future version of pandas. Pass observed=False to retain current behavior or observed=True to adopt the future default and silence this warning.\n",
      "  df.groupby('debt_bin')['SeriousDlqin2yrs'].mean().plot(kind='line', marker='o')\n"
     ]
    },
    {
     "data": {
      "text/plain": [
       "<Axes: xlabel='debt_bin'>"
      ]
     },
     "execution_count": 36,
     "metadata": {},
     "output_type": "execute_result"
    },
    {
     "data": {
      "image/png": "[encoded data removed]",
      "text/plain": [
       "<Figure size 640x480 with 1 Axes>"
      ]
     },
     "metadata": {},
     "output_type": "display_data"
    }
   ],
   "source": [
    "df['debt_bin'] = pd.qcut(df['DebtRatio'], q=10, duplicates='drop')\n",
    "df.groupby('debt_bin')['SeriousDlqin2yrs'].mean().plot(kind='line', marker='o')"
   ]
  },
  {
   "cell_type": "code",
   "execution_count": 37,
   "id": "6aad4feb-9e54-4cf3-a1e2-17a96d6052bc",
   "metadata": {},
   "outputs": [],
   "source": [
    "AUC: 0.5554862822207411"
   ]
  },
  {
   "cell_type": "code",
   "execution_count": 38,
   "id": "b9472859-6f24-41e3-ba46-4d8dc712de72",
   "metadata": {},
   "outputs": [
    {
     "ename": "ValueError",
     "evalue": "Columns must be same length as key",
     "output_type": "error",
     "traceback": [
      "\u001B[31m---------------------------------------------------------------------------\u001B[39m",
      "\u001B[31mValueError\u001B[39m                                Traceback (most recent call last)",
      "\u001B[32m/var/folders/5x/xp_2x3wd43x6lvvb5q3xks6h0000gn/T/ipykernel_59131/2749551417.py\u001B[39m in \u001B[36m?\u001B[39m\u001B[34m()\u001B[39m\n\u001B[32m----> \u001B[39m\u001B[32m1\u001B[39m df[\u001B[33m'DebtRatio'\u001B[39m] = df[df[\u001B[33m'DebtRatio'\u001B[39m] <= \u001B[32m1\u001B[39m]\n",
      "\u001B[32m/Library/Frameworks/Python.framework/Versions/3.13/lib/python3.13/site-packages/pandas/core/frame.py\u001B[39m in \u001B[36m?\u001B[39m\u001B[34m(self, key, value)\u001B[39m\n\u001B[32m   4297\u001B[39m             self._setitem_frame(key, value)\n\u001B[32m   4298\u001B[39m         \u001B[38;5;28;01melif\u001B[39;00m isinstance(key, (Series, np.ndarray, list, Index)):\n\u001B[32m   4299\u001B[39m             self._setitem_array(key, value)\n\u001B[32m   4300\u001B[39m         \u001B[38;5;28;01melif\u001B[39;00m isinstance(value, DataFrame):\n\u001B[32m-> \u001B[39m\u001B[32m4301\u001B[39m             self._set_item_frame_value(key, value)\n\u001B[32m   4302\u001B[39m         elif (\n\u001B[32m   4303\u001B[39m             is_list_like(value)\n\u001B[32m   4304\u001B[39m             \u001B[38;5;28;01mand\u001B[39;00m \u001B[38;5;28;01mnot\u001B[39;00m self.columns.is_unique\n",
      "\u001B[32m/Library/Frameworks/Python.framework/Versions/3.13/lib/python3.13/site-packages/pandas/core/frame.py\u001B[39m in \u001B[36m?\u001B[39m\u001B[34m(self, key, value)\u001B[39m\n\u001B[32m   4425\u001B[39m             loc = self.columns.get_loc(key)\n\u001B[32m   4426\u001B[39m             cols = self.columns[loc]\n\u001B[32m   4427\u001B[39m             len_cols = \u001B[32m1\u001B[39m \u001B[38;5;28;01mif\u001B[39;00m is_scalar(cols) \u001B[38;5;28;01mor\u001B[39;00m isinstance(cols, tuple) \u001B[38;5;28;01melse\u001B[39;00m len(cols)\n\u001B[32m   4428\u001B[39m             \u001B[38;5;28;01mif\u001B[39;00m len_cols != len(value.columns):\n\u001B[32m-> \u001B[39m\u001B[32m4429\u001B[39m                 \u001B[38;5;28;01mraise\u001B[39;00m ValueError(\u001B[33m\"Columns must be same length as key\"\u001B[39m)\n\u001B[32m   4430\u001B[39m \n\u001B[32m   4431\u001B[39m             \u001B[38;5;66;03m# align right-hand-side columns if self.columns\u001B[39;00m\n\u001B[32m   4432\u001B[39m             \u001B[38;5;66;03m# is multi-index and self[key] is a sub-frame\u001B[39;00m\n",
      "\u001B[31mValueError\u001B[39m: Columns must be same length as key"
     ]
    }
   ],
   "source": [
    "df['DebtRatio'] = df[df['DebtRatio'] <= 1]"
   ]
  },
  {
   "cell_type": "code",
   "execution_count": 39,
   "id": "54581d53-a304-451d-986b-3c750f6823ae",
   "metadata": {},
   "outputs": [
    {
     "ename": "SyntaxError",
     "evalue": "invalid syntax (3600253848.py, line 1)",
     "output_type": "error",
     "traceback": [
      "  \u001B[36mCell\u001B[39m\u001B[36m \u001B[39m\u001B[32mIn[39]\u001B[39m\u001B[32m, line 1\u001B[39m\n\u001B[31m    \u001B[39m\u001B[31mz calego df podmien DebtRatio na takie mniejsze o 1\u001B[39m\n      ^\n\u001B[31mSyntaxError\u001B[39m\u001B[31m:\u001B[39m invalid syntax\n"
     ]
    }
   ],
   "source": [
    "z calego df podmien DebtRatio na takie mniejsze o 1"
   ]
  },
  {
   "cell_type": "code",
   "id": "be9f3f45-3f86-4067-9300-d4675c6db1e4",
   "metadata": {
    "ExecuteTime": {
     "end_time": "2025-07-21T14:36:24.399763Z",
     "start_time": "2025-07-21T14:36:23.257774Z"
    }
   },
   "source": [
    "from sklearn.metrics import roc_auc_score, confusion_matrix, classification_report\n",
    "from model.score import y_train, y_test, X_train\n",
    "from xgboost import XGBClassifier\n",
    "\n",
    "# Policzenie współczynnika niezbalansowania\n",
    "ratio = y_train.value_counts()[0] / y_train.value_counts()[1]\n",
    "\n",
    "# XGBoost z dopasowaniem do niezbalansowanych danych\n",
    "model = XGBClassifier(\n",
    "    scale_pos_weight=ratio,\n",
    "    use_label_encoder=False,\n",
    "    eval_metric='logloss',\n",
    "    max_depth=4,\n",
    "    learning_rate=0.1,\n",
    "    n_estimators=100,\n",
    "    random_state=42\n",
    ")\n",
    "print(\"------------- XGBOOST -----------\")\n",
    "model.fit(X_train, y_train)\n",
    "\n",
    "# Predykcje\n",
    "y_pred_proba = model.predict_proba(X_test)[:, 1]\n",
    "y_pred = (y_pred_proba >= 0.5).astype(int)\n",
    "\n",
    "# Ocena\n",
    "print(\"AUC:\", roc_auc_score(y_test, y_pred_proba))\n",
    "print(\"Confusion Matrix:\\n\", confusion_matrix(y_test, y_pred))\n",
    "print(\"Classification Report:\\n\", classification_report(y_test, y_pred))"
   ],
   "outputs": [
    {
     "name": "stderr",
     "output_type": "stream",
     "text": [
      "/Users/goreit/PycharmProjects/creditScoreMlApp/.venv/lib/python3.8/site-packages/sklearn/linear_model/_logistic.py:460: ConvergenceWarning: lbfgs failed to converge (status=1):\n",
      "STOP: TOTAL NO. of ITERATIONS REACHED LIMIT.\n",
      "\n",
      "Increase the number of iterations (max_iter) or scale the data as shown in:\n",
      "    https://scikit-learn.org/stable/modules/preprocessing.html\n",
      "Please also refer to the documentation for alternative solver options:\n",
      "    https://scikit-learn.org/stable/modules/linear_model.html#logistic-regression\n",
      "  n_iter_i = _check_optimize_result(\n",
      "/Users/goreit/PycharmProjects/creditScoreMlApp/.venv/lib/python3.8/site-packages/xgboost/core.py:158: UserWarning: [16:36:23] WARNING: /Users/runner/work/xgboost/xgboost/src/learner.cc:740: \n",
      "Parameters: { \"use_label_encoder\" } are not used.\n",
      "\n",
      "  warnings.warn(smsg, UserWarning)\n"
     ]
    },
    {
     "name": "stdout",
     "output_type": "stream",
     "text": [
      "AUC: 0.6777806164522661\n",
      "Confusion Matrix:\n",
      " [[31548    39]\n",
      " [ 2248    42]]\n",
      "Classification Report:\n",
      "               precision    recall  f1-score   support\n",
      "\n",
      "           0       0.93      1.00      0.97     31587\n",
      "           1       0.52      0.02      0.04      2290\n",
      "\n",
      "    accuracy                           0.93     33877\n",
      "   macro avg       0.73      0.51      0.50     33877\n",
      "weighted avg       0.91      0.93      0.90     33877\n",
      "\n",
      "NumberOfTime30-59DaysPastDueNotWorse    0.401085\n",
      "NumberOfDependents                      0.216845\n",
      "NumberRealEstateLoansOrLines            0.089997\n",
      "DebtRatio                               0.068053\n",
      "NumberOfTimes90DaysLate                 0.056142\n",
      "MonthlyIncome                          -0.000063\n",
      "RevolvingUtilizationOfUnsecuredLines   -0.003882\n",
      "NumberOfOpenCreditLinesAndLoans        -0.036639\n",
      "age                                    -0.046102\n",
      "NumberOfTime60-89DaysPastDueNotWorse   -0.420958\n",
      "dtype: float64\n",
      "------------- XGBOOST -----------\n",
      "AUC: 0.8596877992618432\n",
      "Confusion Matrix:\n",
      " [[25158  6429]\n",
      " [  535  1755]]\n",
      "Classification Report:\n",
      "               precision    recall  f1-score   support\n",
      "\n",
      "           0       0.98      0.80      0.88     31587\n",
      "           1       0.21      0.77      0.34      2290\n",
      "\n",
      "    accuracy                           0.79     33877\n",
      "   macro avg       0.60      0.78      0.61     33877\n",
      "weighted avg       0.93      0.79      0.84     33877\n",
      "\n",
      "------------- XGBOOST -----------\n"
     ]
    },
    {
     "name": "stderr",
     "output_type": "stream",
     "text": [
      "/Users/goreit/PycharmProjects/creditScoreMlApp/.venv/lib/python3.8/site-packages/xgboost/core.py:158: UserWarning: [16:36:24] WARNING: /Users/runner/work/xgboost/xgboost/src/learner.cc:740: \n",
      "Parameters: { \"use_label_encoder\" } are not used.\n",
      "\n",
      "  warnings.warn(smsg, UserWarning)\n"
     ]
    },
    {
     "ename": "NameError",
     "evalue": "name 'X_test' is not defined",
     "output_type": "error",
     "traceback": [
      "\u001B[0;31m---------------------------------------------------------------------------\u001B[0m",
      "\u001B[0;31mNameError\u001B[0m                                 Traceback (most recent call last)",
      "Cell \u001B[0;32mIn[16], line 22\u001B[0m\n\u001B[1;32m     19\u001B[0m model\u001B[38;5;241m.\u001B[39mfit(X_train, y_train)\n\u001B[1;32m     21\u001B[0m \u001B[38;5;66;03m# Predykcje\u001B[39;00m\n\u001B[0;32m---> 22\u001B[0m y_pred_proba \u001B[38;5;241m=\u001B[39m model\u001B[38;5;241m.\u001B[39mpredict_proba(\u001B[43mX_test\u001B[49m)[:, \u001B[38;5;241m1\u001B[39m]\n\u001B[1;32m     23\u001B[0m y_pred \u001B[38;5;241m=\u001B[39m (y_pred_proba \u001B[38;5;241m>\u001B[39m\u001B[38;5;241m=\u001B[39m \u001B[38;5;241m0.5\u001B[39m)\u001B[38;5;241m.\u001B[39mastype(\u001B[38;5;28mint\u001B[39m)\n\u001B[1;32m     25\u001B[0m \u001B[38;5;66;03m# Ocena\u001B[39;00m\n",
      "\u001B[0;31mNameError\u001B[0m: name 'X_test' is not defined"
     ]
    }
   ],
   "execution_count": 16
  },
  {
   "metadata": {
    "ExecuteTime": {
     "end_time": "2025-07-21T14:36:32.719723Z",
     "start_time": "2025-07-21T14:36:32.068304Z"
    }
   },
   "cell_type": "code",
   "source": [
    "import matplotlib.pyplot as plt\n",
    "import xgboost as xgb\n",
    "\n",
    "xgb.plot_importance(model, max_num_features=10)\n",
    "plt.title(\"Najważniejsze cechy wg XGBoost\")\n",
    "plt.show()"
   ],
   "id": "dd414fcd98da1076",
   "outputs": [
    {
     "data": {
      "text/plain": [
       "<Figure size 640x480 with 1 Axes>"
      ],
      "image/png": "[encoded data removed]"
     },
     "metadata": {},
     "output_type": "display_data"
    }
   ],
   "execution_count": 17
  },
  {
   "metadata": {},
   "cell_type": "code",
   "outputs": [],
   "execution_count": null,
   "source": "",
   "id": "983e444efab24422"
  }
 ],
 "metadata": {
  "kernelspec": {
   "display_name": "Python 3 (ipykernel)",
   "language": "python",
   "name": "python3"
  },
  "language_info": {
   "codemirror_mode": {
    "name": "ipython",
    "version": 3
   },
   "file_extension": ".py",
   "mimetype": "text/x-python",
   "name": "python",
   "nbconvert_exporter": "python",
   "pygments_lexer": "ipython3",
   "version": "3.13.3"
  }
 },
 "nbformat": 4,
 "nbformat_minor": 5
}
