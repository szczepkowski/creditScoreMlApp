{
 "cells": [
  {
   "metadata": {
    "ExecuteTime": {
     "end_time": "2025-07-21T11:06:20.254242Z",
     "start_time": "2025-07-21T11:06:20.190670Z"
    }
   },
   "cell_type": "code",
   "source": [
    "import pandas as pd\n",
    "\n",
    "# Wczytanie pliku\n",
    "df = pd.read_csv('../data/cs-test.csv')\n",
    "df = df.drop('SeriousDlqin2yrs', axis=1)\n",
    "\n",
    "# Podgląd danych\n",
    "print(df.head(10))"
   ],
   "id": "35037af55953a4a3",
   "outputs": [
    {
     "name": "stdout",
     "output_type": "stream",
     "text": [
      "   Unnamed: 0  RevolvingUtilizationOfUnsecuredLines  age  \\\n",
      "0           1                              0.885519   43   \n",
      "1           2                              0.463295   57   \n",
      "2           3                              0.043275   59   \n",
      "3           4                              0.280308   38   \n",
      "4           5                              1.000000   27   \n",
      "5           6                              0.509791   63   \n",
      "6           7                              0.587778   50   \n",
      "7           8                              0.046149   79   \n",
      "8           9                              0.013527   68   \n",
      "9          10                              1.000000   23   \n",
      "\n",
      "   NumberOfTime30-59DaysPastDueNotWorse    DebtRatio  MonthlyIncome  \\\n",
      "0                                     0     0.177513         5700.0   \n",
      "1                                     0     0.527237         9141.0   \n",
      "2                                     0     0.687648         5083.0   \n",
      "3                                     1     0.925961         3200.0   \n",
      "4                                     0     0.019917         3865.0   \n",
      "5                                     0     0.342429         4140.0   \n",
      "6                                     0  1048.000000            0.0   \n",
      "7                                     1     0.369170         3301.0   \n",
      "8                                     0  2024.000000            NaN   \n",
      "9                                    98     0.000000            0.0   \n",
      "\n",
      "   NumberOfOpenCreditLinesAndLoans  NumberOfTimes90DaysLate  \\\n",
      "0                                4                        0   \n",
      "1                               15                        0   \n",
      "2                               12                        0   \n",
      "3                                7                        0   \n",
      "4                                4                        0   \n",
      "5                                4                        0   \n",
      "6                                5                        0   \n",
      "7                                8                        0   \n",
      "8                                4                        0   \n",
      "9                                0                       98   \n",
      "\n",
      "   NumberRealEstateLoansOrLines  NumberOfTime60-89DaysPastDueNotWorse  \\\n",
      "0                             0                                     0   \n",
      "1                             4                                     0   \n",
      "2                             1                                     0   \n",
      "3                             2                                     0   \n",
      "4                             0                                     0   \n",
      "5                             0                                     0   \n",
      "6                             0                                     0   \n",
      "7                             1                                     0   \n",
      "8                             1                                     0   \n",
      "9                             0                                    98   \n",
      "\n",
      "   NumberOfDependents  \n",
      "0                 0.0  \n",
      "1                 2.0  \n",
      "2                 2.0  \n",
      "3                 0.0  \n",
      "4                 1.0  \n",
      "5                 1.0  \n",
      "6                 3.0  \n",
      "7                 1.0  \n",
      "8                 0.0  \n",
      "9                 0.0  \n"
     ]
    }
   ],
   "execution_count": 5
  },
  {
   "metadata": {},
   "cell_type": "code",
   "outputs": [],
   "execution_count": null,
   "source": "",
   "id": "27b665aecac2f66f"
  }
 ],
 "metadata": {},
 "nbformat": 4,
 "nbformat_minor": 5
}
